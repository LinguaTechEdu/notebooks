{
 "cells": [
  {
   "cell_type": "markdown",
   "metadata": {
    "nbpresent": {
     "id": "354bee17-bd91-4c2a-9558-344c682bc35c"
    }
   },
   "source": [
    "# Common Data Types\n",
    "_Note: Shift + Enter to run the examples below_\n",
    "\n",
    "In this lesson we'll get you set up with all the basic concepts you need to start writing functions and telling your computer what to do. The next step is help you identify the different data types. In no particular order:\n",
    "1. Numbers: 1, 3.5\n",
    "2. Strings: \"Hello, World!\"\n",
    "\n",
    "There's a few other core types, but these are the ones you'll encounter and use all the time.\n",
    "\n",
    "This lesson is just an introduction to the data types. We'll focus on:\n",
    "* How to create them\n",
    "* How to update them\n",
    "* How to retrieve items from them\n",
    "\n",
    "In the list below you'll notice that it's all about syntax: the containers -- (), [], '', {} -- are what help define what each data type is. Placing objects within these helps us identify them by name:\n",
    "\n",
    "- **Strings**: any characters contained within quotes (double or single) is a string.\n",
    "\n",
    "\n",
    "IMPORTANT NOTE:\n",
    "A method is a kind of function that provides behavior to objects. Objects, such as lists and the others, have methods which allow us to manipulate them. Examples will be given below.\n",
    "\n",
    "#### Extra, Advanced Challenges:\n",
    "1. Lists: ['apples', 'oranges', 'bananas']\n",
    "2. Dictionaries: {'name': 'James Bond', 'email': 'jbond@example.com'}\n",
    "3. Tuples: ('James Bond', 'jbond@example.com', 007)\n",
    "4. Booleans: True, False\n",
    "\n",
    "Definitions: \n",
    "- **Lists**: container of objects within [] brackets form a list.\n",
    "- **Dictionaries**: key/value pairs within {} braces.\n",
    "- **Tuples**: container of objects within () parenthesis form a tuple. Tuples cannot be changed (immutable). \n",
    "- **Booleans**: objects whose value can only be True or False."
   ]
  },
  {
   "cell_type": "markdown",
   "metadata": {},
   "source": [
    "### Numbers | int()\n",
    "\n",
    "Generally, the kind of numbers you'll work with most commonly are integers. You can perform all kinds of operations with integers."
   ]
  },
  {
   "cell_type": "code",
   "execution_count": 1,
   "metadata": {},
   "outputs": [],
   "source": [
    "a = \"1\" # A string\n",
    "b = 1   # An integer"
   ]
  },
  {
   "cell_type": "code",
   "execution_count": 2,
   "metadata": {},
   "outputs": [
    {
     "data": {
      "text/plain": [
       "1"
      ]
     },
     "execution_count": 2,
     "metadata": {},
     "output_type": "execute_result"
    }
   ],
   "source": [
    "# Basic math operations\n",
    "1+1  # addition\n",
    "2*3  # multiplication\n",
    "2**2 # exponents\n",
    "4/2  # division\n",
    "5-4  # subtraction\n",
    "22%3 # division remainder"
   ]
  },
  {
   "cell_type": "markdown",
   "metadata": {},
   "source": [
    "### Strings | str()\n",
    "Our 'hello' function returns a string. Strings are just sequences of characters wrapped in quotes (double or single). They are objects just like everything else in Python, which means they can be manipulated, created, and removed.\n",
    "\n",
    "Strings have some handy methods already built into the language for you. Here a are a few of the more common ones.\n",
    "\n",
    "- String[beg:end] (this is called slicing)\n",
    "- String.capitalize()\n",
    "- String.lower()\n",
    "- String.join(list)\n",
    "- String.split(delimiter)\n",
    "- String.replace(substring, replacement)\n",
    "\n",
    "__Methods__ are functions which give objects behaviors. \n",
    "*Syntax*: `Object.method(args*)` \n",
    "\n",
    "Object can be a any of the many data types or other objects we'll talk about later. In this example, `Hello ...` is a string, a sequence of characters surrounded by quotes. Strings have a method called `.format()` which interpolates objects. Just like we did with our `hello()` function.\n",
    "\n",
    "Strings can also be combined (concatenation). You just add them the way you would integers:"
   ]
  },
  {
   "cell_type": "code",
   "execution_count": 6,
   "metadata": {},
   "outputs": [
    {
     "data": {
      "text/plain": [
       "'Hello World!'"
      ]
     },
     "execution_count": 6,
     "metadata": {},
     "output_type": "execute_result"
    }
   ],
   "source": [
    "'Hello ' + 'World!'"
   ]
  },
  {
   "cell_type": "code",
   "execution_count": 7,
   "metadata": {},
   "outputs": [
    {
     "data": {
      "text/plain": [
       "'Hello!Hello!Hello!'"
      ]
     },
     "execution_count": 7,
     "metadata": {},
     "output_type": "execute_result"
    }
   ],
   "source": [
    "# Or repeated ...\n",
    "'Hello!' * 3"
   ]
  },
  {
   "cell_type": "code",
   "execution_count": 8,
   "metadata": {},
   "outputs": [
    {
     "data": {
      "text/plain": [
       "'Hello'"
      ]
     },
     "execution_count": 8,
     "metadata": {},
     "output_type": "execute_result"
    }
   ],
   "source": [
    "'hello'.capitalize()"
   ]
  },
  {
   "cell_type": "code",
   "execution_count": 9,
   "metadata": {},
   "outputs": [
    {
     "data": {
      "text/plain": [
       "'hello'"
      ]
     },
     "execution_count": 9,
     "metadata": {},
     "output_type": "execute_result"
    }
   ],
   "source": [
    "'HELLO'.lower()"
   ]
  },
  {
   "cell_type": "code",
   "execution_count": 10,
   "metadata": {},
   "outputs": [
    {
     "data": {
      "text/plain": [
       "'HELLO'"
      ]
     },
     "execution_count": 10,
     "metadata": {},
     "output_type": "execute_result"
    }
   ],
   "source": [
    "'hello'.upper()"
   ]
  },
  {
   "cell_type": "code",
   "execution_count": 11,
   "metadata": {},
   "outputs": [
    {
     "data": {
      "text/plain": [
       "'510-555-1234'"
      ]
     },
     "execution_count": 11,
     "metadata": {},
     "output_type": "execute_result"
    }
   ],
   "source": [
    "('-').join(['510', '555', '1234'])"
   ]
  },
  {
   "cell_type": "code",
   "execution_count": 12,
   "metadata": {},
   "outputs": [
    {
     "data": {
      "text/plain": [
       "['510', '555', '1234']"
      ]
     },
     "execution_count": 12,
     "metadata": {},
     "output_type": "execute_result"
    }
   ],
   "source": [
    "'510-555-1234'.split('-')"
   ]
  },
  {
   "cell_type": "code",
   "execution_count": 13,
   "metadata": {},
   "outputs": [
    {
     "data": {
      "text/plain": [
       "'*i**le'"
      ]
     },
     "execution_count": 13,
     "metadata": {},
     "output_type": "execute_result"
    }
   ],
   "source": [
    "'giggle'.replace('g', '*')"
   ]
  },
  {
   "cell_type": "markdown",
   "metadata": {},
   "source": [
    "### Practice \n",
    "\n",
    "Remember: String.split() is the format. So you'll need some strings in order to use the methods on them.\n",
    "\n",
    "- Split your name. (ex. `'My Name'.split()`)\n",
    "- Split your address\n",
    "- All caps your name\n",
    "- Replace all vowels in your name with a '?'"
   ]
  },
  {
   "cell_type": "code",
   "execution_count": 7,
   "metadata": {
    "collapsed": true
   },
   "outputs": [],
   "source": [
    "# Type your code below\n",
    "# When done press SHIFT+ENTER\n"
   ]
  },
  {
   "cell_type": "markdown",
   "metadata": {},
   "source": [
    "## Slicing Strings\n",
    "Slicing is much more interesting. It allows us to slice a string up into pieces."
   ]
  },
  {
   "cell_type": "code",
   "execution_count": 14,
   "metadata": {},
   "outputs": [
    {
     "data": {
      "text/plain": [
       "'harlemagne'"
      ]
     },
     "execution_count": 14,
     "metadata": {},
     "output_type": "execute_result"
    }
   ],
   "source": [
    "name = 'Charlemagne'\n",
    "\n",
    "# Slice from the character at offset 1 through the end of the string\n",
    "name[1:]"
   ]
  },
  {
   "cell_type": "code",
   "execution_count": 15,
   "metadata": {},
   "outputs": [
    {
     "data": {
      "text/plain": [
       "'e'"
      ]
     },
     "execution_count": 15,
     "metadata": {},
     "output_type": "execute_result"
    }
   ],
   "source": [
    "name[-1]"
   ]
  },
  {
   "cell_type": "code",
   "execution_count": 16,
   "metadata": {},
   "outputs": [
    {
     "data": {
      "text/plain": [
       "'Ch'"
      ]
     },
     "execution_count": 16,
     "metadata": {},
     "output_type": "execute_result"
    }
   ],
   "source": [
    "name[0:2]"
   ]
  },
  {
   "cell_type": "code",
   "execution_count": 17,
   "metadata": {},
   "outputs": [
    {
     "data": {
      "text/plain": [
       "'gi**le'"
      ]
     },
     "execution_count": 17,
     "metadata": {},
     "output_type": "execute_result"
    }
   ],
   "source": [
    "# And we can bring several techniques together like this ...\n",
    "s = 'giggle'\n",
    "s[0] + s[1:].replace('g', '*')"
   ]
  },
  {
   "cell_type": "markdown",
   "metadata": {},
   "source": [
    "**Interpolation** is inserting values into a string. We'll use the `.format()` method which formats a string by inserting a list of values."
   ]
  },
  {
   "cell_type": "code",
   "execution_count": 18,
   "metadata": {},
   "outputs": [
    {
     "data": {
      "text/plain": [
       "'Hello, James Bond'"
      ]
     },
     "execution_count": 18,
     "metadata": {},
     "output_type": "execute_result"
    }
   ],
   "source": [
    "# Interpolation: inserting values into a string.\n",
    "name = 'James Bond'\n",
    "greeting = 'Hello, {0}'.format(name)\n",
    "greeting"
   ]
  },
  {
   "cell_type": "markdown",
   "metadata": {},
   "source": [
    "## **Looping**\n",
    "In addition to these neat methods and techniques, we can do something called looping with our string. Because it is a collection of characters, we can iterate of it. "
   ]
  },
  {
   "cell_type": "code",
   "execution_count": 4,
   "metadata": {
    "scrolled": true
   },
   "outputs": [
    {
     "name": "stdout",
     "output_type": "stream",
     "text": [
      "Next letter:  A\n",
      "Next letter:  w\n",
      "Next letter:  e\n",
      "Next letter:  s\n",
      "Next letter:  o\n",
      "Next letter:  m\n",
      "Next letter:  e\n"
     ]
    }
   ],
   "source": [
    "# Our amazing 1 word sentence!\n",
    "word = 'Awesome'\n",
    "\n",
    "for letter in word:\n",
    "    print(\"Next letter: \", letter)"
   ]
  },
  {
   "cell_type": "markdown",
   "metadata": {},
   "source": [
    "This is extremely useful for comparing values as well."
   ]
  },
  {
   "cell_type": "code",
   "execution_count": 6,
   "metadata": {},
   "outputs": [
    {
     "name": "stdout",
     "output_type": "stream",
     "text": [
      "A\n",
      "w\n",
      "Hallelujah!\n",
      "s\n",
      "o\n",
      "m\n",
      "Hallelujah!\n",
      ".\n"
     ]
    }
   ],
   "source": [
    "for character in sentence:\n",
    "    if character == 'e':\n",
    "        print(\"Hallelujah!\")\n",
    "    else:\n",
    "        print(character)"
   ]
  },
  {
   "cell_type": "markdown",
   "metadata": {},
   "source": [
    "We can also use the comparator 'in' cleverly here."
   ]
  },
  {
   "cell_type": "code",
   "execution_count": 21,
   "metadata": {},
   "outputs": [
    {
     "name": "stdout",
     "output_type": "stream",
     "text": [
      "A\n",
      "w\n",
      "I FOUND A VOWEL!\n",
      "s\n",
      "I FOUND A VOWEL!\n",
      "m\n",
      "I FOUND A VOWEL!\n",
      ".\n"
     ]
    }
   ],
   "source": [
    "for character in sentence:\n",
    "    if character in 'aeiou':\n",
    "        print('I FOUND A VOWEL!')\n",
    "    else:\n",
    "        print(character)"
   ]
  },
  {
   "cell_type": "markdown",
   "metadata": {},
   "source": [
    "Python also has some handy built-in functions that you'll be using a lot.\n",
    "\n",
    "* len(object)\n",
    "* String.format(values)\n",
    "* sorted(object)\n",
    "\n",
    "Try them out!\n",
    "\n",
    "There's plenty more: https://docs.python.org/3/library/functions.html"
   ]
  },
  {
   "cell_type": "markdown",
   "metadata": {},
   "source": [
    "#### Practice\n",
    "\n",
    "Open the 02_practice file and let's see what we can do with our new found knowledge of Python."
   ]
  },
  {
   "cell_type": "code",
   "execution_count": 22,
   "metadata": {},
   "outputs": [
    {
     "ename": "SyntaxError",
     "evalue": "invalid syntax (<ipython-input-22-4015d7aa2f98>, line 6)",
     "output_type": "error",
     "traceback": [
      "\u001b[0;36m  File \u001b[0;32m\"<ipython-input-22-4015d7aa2f98>\"\u001b[0;36m, line \u001b[0;32m6\u001b[0m\n\u001b[0;31m    first = s[] # Fill in the blanks\u001b[0m\n\u001b[0m              ^\u001b[0m\n\u001b[0;31mSyntaxError\u001b[0m\u001b[0;31m:\u001b[0m invalid syntax\n"
     ]
    }
   ],
   "source": [
    "def string_ends(s):\n",
    "    \"\"\"\n",
    "    Write a function that takes a string 's' and returns the first\n",
    "    and last letter of the string.\n",
    "    \"\"\"\n",
    "    first = s[] # Fill in the blanks\n",
    "    last = s[]\n",
    "    return first, last\n",
    "\n",
    "string_ends('bad')"
   ]
  },
  {
   "cell_type": "code",
   "execution_count": null,
   "metadata": {
    "collapsed": true
   },
   "outputs": [],
   "source": [
    "def low_cap(s):\n",
    "    \"\"\"\n",
    "    Write a function that returns a string in all caps except the first letter\n",
    "    which should be lowercase.\n",
    "    \"\"\"\n",
    "    last = s[1:]. # Add the appropriate method\n",
    "    first = s[0]. # Add the approperiate method\n",
    "    return first + last"
   ]
  },
  {
   "cell_type": "markdown",
   "metadata": {},
   "source": [
    "1. Create a function that takes a string argument and returns the number of vowels in."
   ]
  },
  {
   "cell_type": "markdown",
   "metadata": {},
   "source": [
    "## Extras\n",
    "\n",
    "### **Lists** | `list()`\n",
    "Lists are a great way to organize long lists of data. A list can contain any and all of the data types."
   ]
  },
  {
   "cell_type": "code",
   "execution_count": null,
   "metadata": {
    "collapsed": true,
    "nbpresent": {
     "id": "c7b6e0df-45c7-49e4-bec8-0e1a378831d6"
    },
    "scrolled": true
   },
   "outputs": [],
   "source": [
    "# Create a list using the list function ...\n",
    "birds = list(['woodpecker', 'bluejay', 'cardinal'])\n",
    "birds"
   ]
  },
  {
   "cell_type": "code",
   "execution_count": null,
   "metadata": {
    "collapsed": true,
    "nbpresent": {
     "id": "1315ae4a-8136-4989-ac1e-7a769507415e"
    },
    "scrolled": true
   },
   "outputs": [],
   "source": [
    "# OR create a list using a literal, [] ...\n",
    "birds = ['woodpecker', 'bluejay', 'cardinal']\n",
    "birds"
   ]
  },
  {
   "cell_type": "markdown",
   "metadata": {
    "nbpresent": {
     "id": "9f04b437-622b-4025-9cb6-3f33bab0afbc"
    }
   },
   "source": [
    "**Some Important List Properties**\n",
    "1. Lists are just collections of arbitrary objects. We use them group things. \n",
    "2. They can contain any type of object (strings, numbers, booleans, dictionaries, etc). \n",
    "3. They're also mutable, a property of objects that allows them to be changed.\n",
    "4. Accessed by offset; objects in a list are sequentially numbered starting with 0."
   ]
  },
  {
   "cell_type": "code",
   "execution_count": null,
   "metadata": {
    "collapsed": true,
    "nbpresent": {
     "id": "1efbd7a7-d3e9-4f10-9011-94dcfb5b8199"
    },
    "scrolled": true
   },
   "outputs": [],
   "source": [
    "    # Offset:  0        1        2        3\n",
    "groceries = ['milk', 'bread', 'eggs', 'apples']\n",
    "groceries"
   ]
  },
  {
   "cell_type": "code",
   "execution_count": null,
   "metadata": {
    "collapsed": true,
    "nbpresent": {
     "id": "c85f89fc-721e-4be8-bcbb-d0a9913a7629"
    },
    "scrolled": true
   },
   "outputs": [],
   "source": [
    "groceries[2]"
   ]
  },
  {
   "cell_type": "markdown",
   "metadata": {
    "nbpresent": {
     "id": "f5486779-c517-47f6-a58a-4dba66eb5251"
    }
   },
   "source": [
    "**List Methods**\n",
    "* List.append(obj)\n",
    "* List.pop(index)\n",
    "* List.remove(value)\n",
    "* List.sort()\n",
    "* List.count(value)\n",
    "\n",
    "**Adding Objects to Lists**\n",
    "1. You can use the `append()` method. It takes 1 argument: the object you want to append.\n",
    "2. You can use the `push()` method, which adds an object to the end of the list. It takes 1 argument: the object you want to add."
   ]
  },
  {
   "cell_type": "code",
   "execution_count": null,
   "metadata": {
    "collapsed": true,
    "nbpresent": {
     "id": "02db2616-b923-4f5f-8850-c1496c63f17a"
    },
    "scrolled": true
   },
   "outputs": [],
   "source": [
    "groceries.append('rice')\n",
    "groceries.append('ice cream')\n",
    "groceries"
   ]
  },
  {
   "cell_type": "code",
   "execution_count": null,
   "metadata": {
    "collapsed": true
   },
   "outputs": [],
   "source": [
    "groceries.insert(1, 'corn')\n",
    "groceries"
   ]
  },
  {
   "cell_type": "code",
   "execution_count": null,
   "metadata": {
    "collapsed": true
   },
   "outputs": [],
   "source": [
    "groceries.remove('ice cream')\n",
    "groceries"
   ]
  },
  {
   "cell_type": "code",
   "execution_count": null,
   "metadata": {
    "collapsed": true
   },
   "outputs": [],
   "source": [
    "groceries.sort()\n",
    "groceries"
   ]
  },
  {
   "cell_type": "markdown",
   "metadata": {},
   "source": [
    "#### Stacks and Queues\n",
    "\n",
    "You'll hear this terminology every now and again and it's a good concept to be aware of. With our lists, we creating stacks or queues everytime we use them.\n",
    "\n",
    "A **stack** is a collection of objects in which the last object to be added will be the first object to be removed (last in, first out or LIFO).\n",
    "\n",
    "A **queue** is a collection of objects in which the first object to be added will be the first object to be removed (first in, first out or FIFO).\n",
    "\n",
    "Obviously we can use both of these strategies on our lists. These are just good concepts to be aware of as they're used across computer languages and are useful strategies for dealing with data."
   ]
  },
  {
   "cell_type": "code",
   "execution_count": null,
   "metadata": {
    "collapsed": true
   },
   "outputs": [],
   "source": [
    "my_stack = [i for i in range(5)]\n",
    "my_stack"
   ]
  },
  {
   "cell_type": "code",
   "execution_count": null,
   "metadata": {
    "collapsed": true
   },
   "outputs": [],
   "source": [
    "my_stack.pop()"
   ]
  },
  {
   "cell_type": "code",
   "execution_count": null,
   "metadata": {
    "collapsed": true
   },
   "outputs": [],
   "source": [
    "my_stack"
   ]
  },
  {
   "cell_type": "code",
   "execution_count": null,
   "metadata": {
    "collapsed": true
   },
   "outputs": [],
   "source": [
    "my_stack.append(5)\n",
    "my_stack"
   ]
  },
  {
   "cell_type": "code",
   "execution_count": null,
   "metadata": {
    "collapsed": true
   },
   "outputs": [],
   "source": [
    "my_q = [i for i in range(5)]\n",
    "my_q"
   ]
  },
  {
   "cell_type": "code",
   "execution_count": null,
   "metadata": {
    "collapsed": true
   },
   "outputs": [],
   "source": [
    "my_q.pop(0)"
   ]
  },
  {
   "cell_type": "markdown",
   "metadata": {
    "nbpresent": {
     "id": "6331077e-75fb-45ba-8df6-2df61c452f9a"
    }
   },
   "source": [
    "### **Dictionaries** | `dict()`\n",
    "\n",
    "Dictionaries contain key/value pairs. They're used for organizing data with labels. To create a dictionary:"
   ]
  },
  {
   "cell_type": "code",
   "execution_count": null,
   "metadata": {
    "collapsed": true,
    "nbpresent": {
     "id": "a84e4433-5ce0-4c5a-82ef-f879fcb88e05"
    },
    "scrolled": true
   },
   "outputs": [],
   "source": [
    "# Create using the dict() function ...\n",
    "contact = dict(\n",
    "    name='James Bond',\n",
    "    agent_id='007',\n",
    "    location='London'\n",
    ")\n",
    "# OR create using a dictionary literal, {} ...\n",
    "contact = {\n",
    "    'name': 'James Bond',\n",
    "    'agent_id': '007',\n",
    "    'location': 'London'\n",
    "}\n",
    "contact"
   ]
  },
  {
   "cell_type": "code",
   "execution_count": null,
   "metadata": {
    "collapsed": true,
    "nbpresent": {
     "id": "27fe335e-f0de-40ba-806d-320d1d04bc00"
    },
    "scrolled": true
   },
   "outputs": [],
   "source": [
    "contact['email'] = 'bond@jamesbond.spy'\n",
    "contact"
   ]
  },
  {
   "cell_type": "markdown",
   "metadata": {
    "nbpresent": {
     "id": "ff0bcd87-9bc0-430c-b60c-2a942fa4a6ce"
    }
   },
   "source": [
    "**Dictionary Methods**\n",
    "* Dict.get(key, default_response)\n",
    "* Dict.items()\n",
    "* Dict.update({key: val}) or key = val\n",
    "* Dict.clear()\n",
    "* Dict.fromkeys(sequence, value)\n",
    "* Dict.pop()\n",
    "\n",
    "Dictionaries have a method called `get()` that takes at least one argument, the name of the object you want to retrieve from it. \n",
    "\n",
    "**Adding Objects**\n",
    "In the first example, we use the `name` key directly on the dictionary.\n",
    "In the second example, we use the method.\n"
   ]
  },
  {
   "cell_type": "code",
   "execution_count": null,
   "metadata": {
    "collapsed": true,
    "nbpresent": {
     "id": "06ae9434-da5f-4477-9bc1-67644fe1f3ac"
    },
    "scrolled": true
   },
   "outputs": [],
   "source": [
    "# These will return the same result since 'name' is a valid key\n",
    "contact['name']\n",
    "contact.get('name')"
   ]
  },
  {
   "cell_type": "code",
   "execution_count": null,
   "metadata": {
    "collapsed": true,
    "nbpresent": {
     "id": "db1a4205-1d15-4e78-8d8d-f3b6727fe673"
    }
   },
   "outputs": [],
   "source": [
    "# Throws a KeyError because 'phone' is not in the dictionary\n",
    "contact['phone']"
   ]
  },
  {
   "cell_type": "code",
   "execution_count": null,
   "metadata": {
    "collapsed": true,
    "nbpresent": {
     "id": "1f6d2f6f-e2c5-417d-91e4-564ae9d58efc"
    }
   },
   "outputs": [],
   "source": [
    "# Returns None. You should see no output for this statement.\n",
    "contact.get('phone')"
   ]
  },
  {
   "cell_type": "markdown",
   "metadata": {
    "nbpresent": {
     "id": "131f69c1-3504-4db3-afde-94212acedc10"
    }
   },
   "source": [
    "*__Note__: Because our previous statement threw an error, you'll need to select each cell and manually run the code from here on out.*\n",
    "\n",
    "The difference: If our dictionary doesn't have a `phone` object it throws an `KeyError` as we can see. But if we use the 'get' method, it will return `None` instead.\n",
    "\n",
    "Even better, we can provide a default value for the non-existent key. Overall, you'll want to use the 'get' method because it prevents your statement from throwing an error."
   ]
  },
  {
   "cell_type": "code",
   "execution_count": null,
   "metadata": {
    "collapsed": true,
    "nbpresent": {
     "id": "b33aa40f-0b01-4ac8-aac3-8a316bd68915"
    },
    "scrolled": true
   },
   "outputs": [],
   "source": [
    "# Set a default return value\n",
    "contact.get('phone', 'No phone available') "
   ]
  },
  {
   "cell_type": "code",
   "execution_count": null,
   "metadata": {
    "collapsed": true,
    "nbpresent": {
     "id": "7ecdce27-bf5d-47f7-a319-33705a2774fa"
    },
    "scrolled": true
   },
   "outputs": [],
   "source": [
    "contact.update(address='1 Main Street')\n",
    "contact"
   ]
  },
  {
   "cell_type": "code",
   "execution_count": null,
   "metadata": {
    "collapsed": true
   },
   "outputs": [],
   "source": [
    "contact.items()"
   ]
  },
  {
   "cell_type": "code",
   "execution_count": null,
   "metadata": {
    "collapsed": true
   },
   "outputs": [],
   "source": [
    "dict.fromkeys(groceries)"
   ]
  },
  {
   "cell_type": "markdown",
   "metadata": {
    "nbpresent": {
     "id": "bb6978f0-8d4f-4529-802d-bd8d02b91cca"
    }
   },
   "source": [
    "Now, suppose we wanted to create an address book, though with more than one person. We can nest dictionaries within each other."
   ]
  },
  {
   "cell_type": "code",
   "execution_count": null,
   "metadata": {
    "collapsed": true,
    "nbpresent": {
     "id": "5fff7b05-3112-453c-af19-cda9ca85d005"
    },
    "scrolled": true
   },
   "outputs": [],
   "source": [
    "contacts = {\n",
    "    '007': {\n",
    "        'name': 'James Bond',\n",
    "        'location': 'London',\n",
    "        'email': 'bond@jamesbond.spy'\n",
    "    },\n",
    "    '008': {\n",
    "        'name': 'Nick Fury',\n",
    "        'location': 'Washington D.C.',\n",
    "        'email': 'nick@example.com'        \n",
    "    }\n",
    "}\n",
    "\n",
    "contacts['007']"
   ]
  },
  {
   "cell_type": "markdown",
   "metadata": {
    "nbpresent": {
     "id": "eddb665d-534c-425b-8f41-8b6f15ef3cda"
    }
   },
   "source": [
    "Above shows a dictionary of dictionaries. You can imagine this method of handling data is pretty common in the tech world for everything from shopping catalogues to book collections to electronic address books.\n",
    "\n",
    "### **Tuples** | `tuple()`\n",
    "Tuples are very similar to lists. However, Tuples have an important difference: once created, they cannot be altered. It is what we term immutable.\n",
    "\n",
    "This is part of the reason there aren't really any methods for tuples. But remember: strings are immutable too so why are there so many methods for \"altering\" strings and none for tuples? \n",
    "\n",
    "String methods that seem to change the string aren't really changing the string. They're creating new strings. Tuples have only a few methods:\n",
    "\n",
    "* Tuple.count(value)\n",
    "* Tuple.index(obj)\n",
    "* Tuple[1:] (slicing)\n",
    "\n",
    "We cannot delete objects from a tuple, but we can delete the tuple itself."
   ]
  },
  {
   "cell_type": "code",
   "execution_count": null,
   "metadata": {
    "collapsed": true
   },
   "outputs": [],
   "source": [
    "# Creating tuples\n",
    "# Using a literal by enclosing multiple values in ()\n",
    "t = ('MacBook Pro', ['keyboard', 'mouse'], '$2499')\n",
    "# Assigning multiple values to  variable at once.\n",
    "a = 1,2,3\n",
    "# Trailing comma for a tuple of length 1\n",
    "p = ('green',)\n",
    "s = tuple(['low', 'medium', 'high'])\n",
    "# This will return all the values above in a tuple\n",
    "t, a, p, s"
   ]
  },
  {
   "cell_type": "markdown",
   "metadata": {},
   "source": [
    "The objects in a tuple are usually related to one another and together constitute a whole object."
   ]
  },
  {
   "cell_type": "code",
   "execution_count": null,
   "metadata": {
    "collapsed": true,
    "nbpresent": {
     "id": "45703329-ba17-45a3-ba9d-96a2c8891f9d"
    },
    "scrolled": true
   },
   "outputs": [],
   "source": [
    "halloween = ('2016', '10', '31', '12', '00', '00')\n",
    "avengers = (\"The Avengers\", 2012, 8, ['Robert Downy', 'Scarlett Johansen', 'Samuel L. Jackson'])\n",
    "halloween, avengers"
   ]
  },
  {
   "cell_type": "markdown",
   "metadata": {},
   "source": [
    "Can you guess what this tuple of numbers represents? Of course you can! It's a date. From beginning to end: year, month, day, hour, minutes, seconds. \n",
    "\n",
    "`avengers` is a movie: title, release year, rating and actors.\n",
    "\n",
    "We might pass `halloween` to a calendar application to store it and get a reminder when Halloween has arrived."
   ]
  },
  {
   "cell_type": "markdown",
   "metadata": {
    "nbpresent": {
     "id": "45741eaa-46c6-41dc-9ac6-0b3262866e14"
    }
   },
   "source": [
    "### Review:\n",
    "* Creating and updating data types\n",
    "* Methods\n",
    "* Immutability\n",
    "\n",
    "### Practice:\n",
    "Create an empty list which will act as a database, storing the names of songs. Write a function to create a music collection. \n",
    "1. The function should take an argument: a string with the name of a song.\n",
    "2. The function should return the list of the songs added."
   ]
  },
  {
   "cell_type": "code",
   "execution_count": null,
   "metadata": {
    "collapsed": true,
    "nbpresent": {
     "id": "29e0fc86-4238-49c9-b08f-b6cbc7565aca"
    },
    "scrolled": true
   },
   "outputs": [],
   "source": [
    "database = list()\n",
    "\n",
    "def add_song(song_title):\n",
    "    database.append(song_title)\n",
    "    return database\n",
    "\n",
    "add_song('end of the road')"
   ]
  },
  {
   "cell_type": "code",
   "execution_count": null,
   "metadata": {
    "collapsed": true,
    "nbpresent": {
     "id": "e474b0c3-bf5b-44cf-bf1f-b49491b67a61"
    },
    "scrolled": true
   },
   "outputs": [],
   "source": [
    "add_song('happy')"
   ]
  }
 ],
 "metadata": {
  "anaconda-cloud": {},
  "kernelspec": {
   "display_name": "Python 3",
   "language": "python",
   "name": "python3"
  },
  "language_info": {
   "codemirror_mode": {
    "name": "ipython",
    "version": 3
   },
   "file_extension": ".py",
   "mimetype": "text/x-python",
   "name": "python",
   "nbconvert_exporter": "python",
   "pygments_lexer": "ipython3",
   "version": "3.6.1"
  },
  "nbpresent": {
   "slides": {
    "119ea50f-655f-4537-bd20-a55337c2721c": {
     "id": "119ea50f-655f-4537-bd20-a55337c2721c",
     "prev": "48debb5d-cac4-4650-991c-17848f15c2bc",
     "regions": {
      "92be4a4a-a58e-446d-a812-c8877865fb70": {
       "attrs": {
        "height": 0.8,
        "width": 0.8,
        "x": 0.1,
        "y": 0.1
       },
       "content": {
        "cell": "7ecdce27-bf5d-47f7-a319-33705a2774fa",
        "part": "whole"
       },
       "id": "92be4a4a-a58e-446d-a812-c8877865fb70"
      }
     }
    },
    "1440e618-cec1-4e47-a24b-77ab6170628a": {
     "id": "1440e618-cec1-4e47-a24b-77ab6170628a",
     "prev": "747319bf-3951-429e-8f73-250752fef2a5",
     "regions": {
      "069ccebb-3204-4f51-a80b-fc3d7c825dbd": {
       "attrs": {
        "height": 0.8,
        "width": 0.8,
        "x": 0.1,
        "y": 0.1
       },
       "content": {
        "cell": "ff0bcd87-9bc0-430c-b60c-2a942fa4a6ce",
        "part": "whole"
       },
       "id": "069ccebb-3204-4f51-a80b-fc3d7c825dbd"
      }
     }
    },
    "1ff3bf60-315f-45c8-bc71-5b6952c979ef": {
     "id": "1ff3bf60-315f-45c8-bc71-5b6952c979ef",
     "prev": "82d319f0-ac48-46eb-849e-f113d3dc6731",
     "regions": {
      "04d51090-5795-4f9e-83f5-431264a7e5e4": {
       "attrs": {
        "height": 0.8,
        "width": 0.8,
        "x": 0.1,
        "y": 0.1
       },
       "content": {
        "cell": "6331077e-75fb-45ba-8df6-2df61c452f9a",
        "part": "whole"
       },
       "id": "04d51090-5795-4f9e-83f5-431264a7e5e4"
      }
     }
    },
    "20fc1464-6609-4b73-b0c3-df270c2bbfa3": {
     "id": "20fc1464-6609-4b73-b0c3-df270c2bbfa3",
     "prev": "8f07b8ee-7320-4b96-a317-cd109ac39ad5",
     "regions": {
      "fcf07f68-5be0-434a-a21e-e5b368220cfc": {
       "attrs": {
        "height": 0.8,
        "width": 0.8,
        "x": 0.1,
        "y": 0.1
       },
       "content": {
        "cell": "1efbd7a7-d3e9-4f10-9011-94dcfb5b8199",
        "part": "whole"
       },
       "id": "fcf07f68-5be0-434a-a21e-e5b368220cfc"
      }
     }
    },
    "2f240f4c-3dd3-4a4b-913a-9aa39b549845": {
     "id": "2f240f4c-3dd3-4a4b-913a-9aa39b549845",
     "prev": "b61b682e-d7b7-407b-a4db-db83942c48f8",
     "regions": {
      "7a2ba1ce-6362-4079-a2ed-536d58a0cd35": {
       "attrs": {
        "height": 0.8,
        "width": 0.8,
        "x": 0.1,
        "y": 0.1
       },
       "content": {
        "cell": "f5486779-c517-47f6-a58a-4dba66eb5251",
        "part": "whole"
       },
       "id": "7a2ba1ce-6362-4079-a2ed-536d58a0cd35"
      }
     }
    },
    "3503134b-203e-4571-880f-90ff56b228ca": {
     "id": "3503134b-203e-4571-880f-90ff56b228ca",
     "prev": "ebd9a5c9-a414-48f1-90fb-6517d0f2c7b3",
     "regions": {
      "4fd78757-8440-4670-8994-0cc1fc1144c6": {
       "attrs": {
        "height": 0.8,
        "width": 0.8,
        "x": 0.1,
        "y": 0.1
       },
       "content": {
        "cell": "1315ae4a-8136-4989-ac1e-7a769507415e",
        "part": "whole"
       },
       "id": "4fd78757-8440-4670-8994-0cc1fc1144c6"
      }
     }
    },
    "352457b4-5098-408b-bb64-2eeee0d83be9": {
     "id": "352457b4-5098-408b-bb64-2eeee0d83be9",
     "prev": "c7066858-1b4c-4e7b-b153-f4ca6ddd5c92",
     "regions": {
      "7b75155f-ec49-407f-8ce3-fb44e214ba7b": {
       "attrs": {
        "height": 0.8,
        "width": 0.8,
        "x": 0.1,
        "y": 0.1
       },
       "content": {
        "cell": "131f69c1-3504-4db3-afde-94212acedc10",
        "part": "whole"
       },
       "id": "7b75155f-ec49-407f-8ce3-fb44e214ba7b"
      }
     }
    },
    "40f22930-c0d4-446a-a408-10a5f9491228": {
     "id": "40f22930-c0d4-446a-a408-10a5f9491228",
     "prev": "1440e618-cec1-4e47-a24b-77ab6170628a",
     "regions": {
      "24513092-af26-45a2-84d5-331be8ea9021": {
       "attrs": {
        "height": 0.8,
        "width": 0.8,
        "x": 0.1,
        "y": 0.1
       },
       "content": {
        "cell": "06ae9434-da5f-4477-9bc1-67644fe1f3ac",
        "part": "whole"
       },
       "id": "24513092-af26-45a2-84d5-331be8ea9021"
      }
     }
    },
    "4416a62f-8033-4ad1-b956-079d6de784a3": {
     "id": "4416a62f-8033-4ad1-b956-079d6de784a3",
     "prev": "b5d7106c-cb02-4072-8a30-b8b020b149b6",
     "regions": {
      "de95cefb-817c-4054-90c8-55d617c57834": {
       "attrs": {
        "height": 0.8,
        "width": 0.8,
        "x": 0.1,
        "y": 0.1
       },
       "content": {
        "cell": "e474b0c3-bf5b-44cf-bf1f-b49491b67a61",
        "part": "whole"
       },
       "id": "de95cefb-817c-4054-90c8-55d617c57834"
      }
     }
    },
    "48debb5d-cac4-4650-991c-17848f15c2bc": {
     "id": "48debb5d-cac4-4650-991c-17848f15c2bc",
     "prev": "352457b4-5098-408b-bb64-2eeee0d83be9",
     "regions": {
      "c70d5ca7-4527-4b7e-8751-baf15b24bca4": {
       "attrs": {
        "height": 0.8,
        "width": 0.8,
        "x": 0.1,
        "y": 0.1
       },
       "content": {
        "cell": "b33aa40f-0b01-4ac8-aac3-8a316bd68915",
        "part": "whole"
       },
       "id": "c70d5ca7-4527-4b7e-8751-baf15b24bca4"
      }
     }
    },
    "4bb1b456-9acf-4a72-b9ea-9e61e271480d": {
     "id": "4bb1b456-9acf-4a72-b9ea-9e61e271480d",
     "prev": "4e4aea88-d5ca-4969-a071-f27ce543716b",
     "regions": {
      "1575cf78-34a7-48d0-8ecc-e513320d4ac9": {
       "attrs": {
        "height": 0.8,
        "width": 0.8,
        "x": 0.1,
        "y": 0.1
       },
       "content": {
        "cell": "eddb665d-534c-425b-8f41-8b6f15ef3cda",
        "part": "whole"
       },
       "id": "1575cf78-34a7-48d0-8ecc-e513320d4ac9"
      }
     }
    },
    "4e4aea88-d5ca-4969-a071-f27ce543716b": {
     "id": "4e4aea88-d5ca-4969-a071-f27ce543716b",
     "prev": "5e241129-6d47-4b4b-85a4-beb8bef91e74",
     "regions": {
      "3439d9cd-e99a-4144-896b-f7d746f195e7": {
       "attrs": {
        "height": 0.8,
        "width": 0.8,
        "x": 0.1,
        "y": 0.1
       },
       "content": {
        "cell": "5fff7b05-3112-453c-af19-cda9ca85d005",
        "part": "whole"
       },
       "id": "3439d9cd-e99a-4144-896b-f7d746f195e7"
      }
     }
    },
    "5e241129-6d47-4b4b-85a4-beb8bef91e74": {
     "id": "5e241129-6d47-4b4b-85a4-beb8bef91e74",
     "prev": "119ea50f-655f-4537-bd20-a55337c2721c",
     "regions": {
      "eb04364d-d796-4d79-89fb-fe587ad0dc91": {
       "attrs": {
        "height": 0.8,
        "width": 0.8,
        "x": 0.1,
        "y": 0.1
       },
       "content": {
        "cell": "bb6978f0-8d4f-4529-802d-bd8d02b91cca",
        "part": "whole"
       },
       "id": "eb04364d-d796-4d79-89fb-fe587ad0dc91"
      }
     }
    },
    "679b0bce-540e-42e4-96cb-2a34c206f17d": {
     "id": "679b0bce-540e-42e4-96cb-2a34c206f17d",
     "prev": "4bb1b456-9acf-4a72-b9ea-9e61e271480d",
     "regions": {
      "109f2a56-b2fc-4fe8-a9c3-bd424753d6d3": {
       "attrs": {
        "height": 0.8,
        "width": 0.8,
        "x": 0.1,
        "y": 0.1
       },
       "content": {
        "cell": "45703329-ba17-45a3-ba9d-96a2c8891f9d",
        "part": "whole"
       },
       "id": "109f2a56-b2fc-4fe8-a9c3-bd424753d6d3"
      }
     }
    },
    "747319bf-3951-429e-8f73-250752fef2a5": {
     "id": "747319bf-3951-429e-8f73-250752fef2a5",
     "prev": "75808286-f251-40d8-9888-368ef1ceccdd",
     "regions": {
      "fd433ed0-bdbb-4ffd-a9b6-b33473194b74": {
       "attrs": {
        "height": 0.8,
        "width": 0.8,
        "x": 0.1,
        "y": 0.1
       },
       "content": {
        "cell": "27fe335e-f0de-40ba-806d-320d1d04bc00",
        "part": "whole"
       },
       "id": "fd433ed0-bdbb-4ffd-a9b6-b33473194b74"
      }
     }
    },
    "75808286-f251-40d8-9888-368ef1ceccdd": {
     "id": "75808286-f251-40d8-9888-368ef1ceccdd",
     "prev": "1ff3bf60-315f-45c8-bc71-5b6952c979ef",
     "regions": {
      "7c454213-a6af-46c3-b067-23df085401c5": {
       "attrs": {
        "height": 0.8,
        "width": 0.8,
        "x": 0.1,
        "y": 0.1
       },
       "content": {
        "cell": "a84e4433-5ce0-4c5a-82ef-f879fcb88e05",
        "part": "whole"
       },
       "id": "7c454213-a6af-46c3-b067-23df085401c5"
      }
     }
    },
    "82d319f0-ac48-46eb-849e-f113d3dc6731": {
     "id": "82d319f0-ac48-46eb-849e-f113d3dc6731",
     "prev": "2f240f4c-3dd3-4a4b-913a-9aa39b549845",
     "regions": {
      "c8956aad-2f14-497d-9706-79662d167fed": {
       "attrs": {
        "height": 0.8,
        "width": 0.8,
        "x": 0.1,
        "y": 0.1
       },
       "content": {
        "cell": "02db2616-b923-4f5f-8850-c1496c63f17a",
        "part": "whole"
       },
       "id": "c8956aad-2f14-497d-9706-79662d167fed"
      }
     }
    },
    "8f07b8ee-7320-4b96-a317-cd109ac39ad5": {
     "id": "8f07b8ee-7320-4b96-a317-cd109ac39ad5",
     "prev": "3503134b-203e-4571-880f-90ff56b228ca",
     "regions": {
      "f6581e28-8380-4728-9c42-ac214a3666f8": {
       "attrs": {
        "height": 0.8,
        "width": 0.8,
        "x": 0.1,
        "y": 0.1
       },
       "content": {
        "cell": "9f04b437-622b-4025-9cb6-3f33bab0afbc",
        "part": "whole"
       },
       "id": "f6581e28-8380-4728-9c42-ac214a3666f8"
      }
     }
    },
    "ad42d4bf-a02b-4048-a117-bf4775f89683": {
     "id": "ad42d4bf-a02b-4048-a117-bf4775f89683",
     "prev": null,
     "regions": {
      "18910c44-427d-4c16-ad66-e784cb1b06f7": {
       "attrs": {
        "height": 0.8,
        "width": 0.8,
        "x": 0.1,
        "y": 0.1
       },
       "content": {
        "cell": "354bee17-bd91-4c2a-9558-344c682bc35c",
        "part": "whole"
       },
       "id": "18910c44-427d-4c16-ad66-e784cb1b06f7"
      }
     }
    },
    "b5d7106c-cb02-4072-8a30-b8b020b149b6": {
     "id": "b5d7106c-cb02-4072-8a30-b8b020b149b6",
     "prev": "c4a6e825-479a-41d3-a981-c777a0bdb980",
     "regions": {
      "f7d6612e-c267-4fc1-b840-296a8c2fbdf9": {
       "attrs": {
        "height": 0.8,
        "width": 0.8,
        "x": 0.1,
        "y": 0.1
       },
       "content": {
        "cell": "29e0fc86-4238-49c9-b08f-b6cbc7565aca",
        "part": "whole"
       },
       "id": "f7d6612e-c267-4fc1-b840-296a8c2fbdf9"
      }
     }
    },
    "b61b682e-d7b7-407b-a4db-db83942c48f8": {
     "id": "b61b682e-d7b7-407b-a4db-db83942c48f8",
     "prev": "20fc1464-6609-4b73-b0c3-df270c2bbfa3",
     "regions": {
      "67665cca-0e37-4ddf-b7cb-dc7fc6fcfa74": {
       "attrs": {
        "height": 0.8,
        "width": 0.8,
        "x": 0.1,
        "y": 0.1
       },
       "content": {
        "cell": "c85f89fc-721e-4be8-bcbb-d0a9913a7629",
        "part": "whole"
       },
       "id": "67665cca-0e37-4ddf-b7cb-dc7fc6fcfa74"
      }
     }
    },
    "c4a6e825-479a-41d3-a981-c777a0bdb980": {
     "id": "c4a6e825-479a-41d3-a981-c777a0bdb980",
     "prev": "679b0bce-540e-42e4-96cb-2a34c206f17d",
     "regions": {
      "fd0113d8-1a01-421b-83ca-8bdb37990964": {
       "attrs": {
        "height": 0.8,
        "width": 0.8,
        "x": 0.1,
        "y": 0.1
       },
       "content": {
        "cell": "45741eaa-46c6-41dc-9ac6-0b3262866e14",
        "part": "whole"
       },
       "id": "fd0113d8-1a01-421b-83ca-8bdb37990964"
      }
     }
    },
    "c7066858-1b4c-4e7b-b153-f4ca6ddd5c92": {
     "id": "c7066858-1b4c-4e7b-b153-f4ca6ddd5c92",
     "prev": "faf66dce-8981-47a4-a066-be1e23dc1d11",
     "regions": {
      "4aa0ac6f-2aba-4bc0-bb17-a8e904033a59": {
       "attrs": {
        "height": 0.8,
        "width": 0.8,
        "x": 0.1,
        "y": 0.1
       },
       "content": {
        "cell": "1f6d2f6f-e2c5-417d-91e4-564ae9d58efc",
        "part": "whole"
       },
       "id": "4aa0ac6f-2aba-4bc0-bb17-a8e904033a59"
      }
     }
    },
    "ebd9a5c9-a414-48f1-90fb-6517d0f2c7b3": {
     "id": "ebd9a5c9-a414-48f1-90fb-6517d0f2c7b3",
     "prev": "ad42d4bf-a02b-4048-a117-bf4775f89683",
     "regions": {
      "9d60cf40-4224-4a73-a4ec-1752ea324cc3": {
       "attrs": {
        "height": 0.8,
        "width": 0.8,
        "x": 0.1,
        "y": 0.1
       },
       "content": {
        "cell": "c7b6e0df-45c7-49e4-bec8-0e1a378831d6",
        "part": "whole"
       },
       "id": "9d60cf40-4224-4a73-a4ec-1752ea324cc3"
      }
     }
    },
    "faf66dce-8981-47a4-a066-be1e23dc1d11": {
     "id": "faf66dce-8981-47a4-a066-be1e23dc1d11",
     "prev": "40f22930-c0d4-446a-a408-10a5f9491228",
     "regions": {
      "eea65efb-79d3-4605-a556-5205ca709e3e": {
       "attrs": {
        "height": 0.8,
        "width": 0.8,
        "x": 0.1,
        "y": 0.1
       },
       "content": {
        "cell": "db1a4205-1d15-4e78-8d8d-f3b6727fe673",
        "part": "whole"
       },
       "id": "eea65efb-79d3-4605-a556-5205ca709e3e"
      }
     }
    }
   },
   "themes": {}
  }
 },
 "nbformat": 4,
 "nbformat_minor": 1
}
