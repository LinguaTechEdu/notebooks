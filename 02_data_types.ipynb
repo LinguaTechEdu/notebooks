{
 "cells": [
  {
   "cell_type": "markdown",
   "metadata": {},
   "source": [
    "# Common Data Types\n",
    "_Note: Shift + Enter to run the examples below_\n",
    "\n",
    "In the first lesson we got you set up with all the basic concepts you need to start writing functions and telling your computer what to do. The next step is help you identify the different data types. In no particular order:\n",
    "1. Numbers: 1, 3.5\n",
    "2. Strings: \"Hello, World!\"\n",
    "3. Lists: ['apples', 'oranges', 'bananas']\n",
    "4. Dictionaries: {'name': 'James Bond', 'email': 'jbond@example.com'}\n",
    "5. Tuples: ('James Bond', 'jbond@example.com', 007)\n",
    "6. Booleans: True, False\n",
    "\n",
    "There's a few other core types, but these are the ones you'll encounter all the time. Indeed, we've already encountered one of these in the last lesson.\n",
    "\n",
    "This lesson is just an introduction to the data types. We'll focus on:\n",
    "* How to create them\n",
    "* How to update them\n",
    "* How to retrieve items from them\n",
    "\n",
    "There are many more things we can do with these data types later!\n",
    "\n",
    "**Strings** any expression contained within quotes (double or single) is a string.\n",
    "**Lists** objects contained within [] brackets form a list.\n",
    "**Dictionaries** are key/value pairs within {} braces.\n",
    "**Tuples** objects contained within () parenthesis form a tuple. Tuples cannot be changed (immutable). \n",
    "**Booleans** are objects whose value can only be True or False.\n",
    "\n",
    "IMPORTANT NOTE:\n",
    "A method is a kind of function that provides behavior to objects. Objects, such as lists and the others, have methods which allow us to manipulate them. Examples will be given below.\n",
    "\n",
    "#### **Lists** | `list()`\n",
    "Lists are a great way to organize long lists of data. A list can contain any and all of the data types."
   ]
  },
  {
   "cell_type": "code",
   "execution_count": 41,
   "metadata": {
    "collapsed": false
   },
   "outputs": [
    {
     "data": {
      "text/plain": [
       "['woodpecker', 'bluejay', 'cardinal']"
      ]
     },
     "execution_count": 41,
     "metadata": {},
     "output_type": "execute_result"
    }
   ],
   "source": [
    "# Create a list using the list function ...\n",
    "birds = list(['woodpecker', 'bluejay', 'cardinal'])\n",
    "birds"
   ]
  },
  {
   "cell_type": "code",
   "execution_count": 42,
   "metadata": {
    "collapsed": false
   },
   "outputs": [
    {
     "data": {
      "text/plain": [
       "['woodpecker', 'bluejay', 'cardinal']"
      ]
     },
     "execution_count": 42,
     "metadata": {},
     "output_type": "execute_result"
    }
   ],
   "source": [
    "# OR create a list using a literal, [] ...\n",
    "birds = ['woodpecker', 'bluejay', 'cardinal']\n",
    "birds"
   ]
  },
  {
   "cell_type": "markdown",
   "metadata": {},
   "source": [
    "**Some Important List Properties**\n",
    "1. Lists are just collections of arbitrary objects. We use them group things. \n",
    "2. They can contain any type of object (strings, numbers, booleans, dictionaries, etc). \n",
    "3. They're also mutable, a property of objects that allows them to be changed.\n",
    "4. Accessed by offset; objects in a list are sequentially numbered starting with 0."
   ]
  },
  {
   "cell_type": "code",
   "execution_count": null,
   "metadata": {
    "collapsed": false
   },
   "outputs": [],
   "source": [
    "    # Offset:  0        1        2        3\n",
    "groceries = ['milk', 'bread', 'eggs', 'apples']\n",
    "groceries"
   ]
  },
  {
   "cell_type": "code",
   "execution_count": null,
   "metadata": {
    "collapsed": false
   },
   "outputs": [],
   "source": [
    "groceries[0]\n",
    "groceries[2]"
   ]
  },
  {
   "cell_type": "markdown",
   "metadata": {},
   "source": [
    "**Adding Objects to Lists**\n",
    "1. You can use the `append()` method. It takes 1 argument: the object you want to append.\n",
    "2. You can use the `push()` method, which adds an object to the end of the list. It takes 1 argument: the object you want to add."
   ]
  },
  {
   "cell_type": "code",
   "execution_count": null,
   "metadata": {
    "collapsed": false
   },
   "outputs": [],
   "source": [
    "groceries.append('rice')\n",
    "groceries.push('ice cream')\n",
    "groceries"
   ]
  },
  {
   "cell_type": "markdown",
   "metadata": {},
   "source": [
    "#### **Dictionaries** | `dict()`\n",
    "\n",
    "Dictionaries contain key/value pairs. They're used for organizing data with labels. To create a dictionary:"
   ]
  },
  {
   "cell_type": "code",
   "execution_count": null,
   "metadata": {
    "collapsed": false
   },
   "outputs": [],
   "source": [
    "# Create using the dict() function ...\n",
    "contact = dict(\n",
    "    name='James Bond',\n",
    "    agent_id='007',\n",
    "    location='London'\n",
    ")\n",
    "# OR create using a dictionary literal, {} ...\n",
    "contact = {\n",
    "    'name': 'James Bond',\n",
    "    'agent_id': '007',\n",
    "    'location': 'London'\n",
    "}\n",
    "contact"
   ]
  },
  {
   "cell_type": "code",
   "execution_count": null,
   "metadata": {
    "collapsed": false
   },
   "outputs": [],
   "source": [
    "contact['email'] = 'bond@jamesbond.spy'\n",
    "contact"
   ]
  },
  {
   "cell_type": "markdown",
   "metadata": {},
   "source": [
    "Dictionaries have a method called `get()` that takes at least one argument, the name of the object you want to retrieve from it. \n",
    "\n",
    "**Adding Objects**\n",
    "In the first example, we use the `name` key directly on the dictionary.\n",
    "In the second example, we use the method. \n",
    "\n",
    "The difference: If our dictionary didn't have a `name` object the first example would throw an error. The second will return `None` and will not throw an error.\n",
    "\n",
    "...additionally, in the second example we can provide a default value for the non-existent key. Overall, you'll want to use the method for general purpose fetching of data."
   ]
  },
  {
   "cell_type": "code",
   "execution_count": null,
   "metadata": {
    "collapsed": false
   },
   "outputs": [],
   "source": [
    "contact['name']\n",
    "contact.get('name')\n",
    "contact['phone']"
   ]
  },
  {
   "cell_type": "code",
   "execution_count": null,
   "metadata": {
    "collapsed": false
   },
   "outputs": [],
   "source": [
    "contact.get('phone', 'No phone available') # our default return value"
   ]
  },
  {
   "cell_type": "code",
   "execution_count": null,
   "metadata": {
    "collapsed": false
   },
   "outputs": [],
   "source": [
    "contact.update(address='1 Main Street')\n",
    "contact"
   ]
  },
  {
   "cell_type": "markdown",
   "metadata": {},
   "source": [
    "Now, suppose we wanted to create an address book, though with more than one person. We can nest dictionaries within each other."
   ]
  },
  {
   "cell_type": "code",
   "execution_count": null,
   "metadata": {
    "collapsed": false
   },
   "outputs": [],
   "source": [
    "contacts = {\n",
    "    '007': {\n",
    "        'name': 'James Bond',\n",
    "        'location': 'London',\n",
    "        'email': 'bond@jamesbond.spy'\n",
    "    },\n",
    "    '008': {\n",
    "        'name': 'Nick Fury',\n",
    "        'location': 'Washington D.C.',\n",
    "        'email': 'nick@example.com'        \n",
    "    }\n",
    "}\n",
    "\n",
    "contacts['007']"
   ]
  },
  {
   "cell_type": "markdown",
   "metadata": {},
   "source": [
    "Above shows a dictionary of dictionaries. You can imagine this method of handling data is pretty common in the tech world for everything from shopping catalogues to book collections to electronic address books.\n",
    "\n",
    "#### **Tuples** | `tuple()`\n",
    "Tuples are very similar to lists. However, Tuples have an important difference: once created, they cannot be altered. It is immutable.\n",
    "\n",
    "The objects in a tuple are usually related to one another and together constitute a whole object."
   ]
  },
  {
   "cell_type": "code",
   "execution_count": null,
   "metadata": {
    "collapsed": true
   },
   "outputs": [],
   "source": [
    "halloween = ('2016', '10', '31', '12', '00', '00')"
   ]
  },
  {
   "cell_type": "markdown",
   "metadata": {},
   "source": [
    "Can you guess what this tuple of numbers represents? Of course you can! It's a date. From beginning to end: year, month, day, hour, minutes, seconds. \n",
    "\n",
    "We might pass `halloween` to a calendar application to store it and get a reminder when Halloween has arrived.\n",
    "\n",
    "Review:\n",
    "* Creating and updating data types\n",
    "* Methods\n",
    "* Immutability\n",
    "\n",
    "Practice:\n",
    "Create an empty list which will act as a database, storing the names of songs. Write a function to create a music collection. \n",
    "1. The function should take an argument: a string with the name of a song.\n",
    "2. The function should return the list of the songs added."
   ]
  },
  {
   "cell_type": "code",
   "execution_count": null,
   "metadata": {
    "collapsed": false
   },
   "outputs": [],
   "source": [
    "database = list()\n",
    "\n",
    "def add_song(song_title):\n",
    "    database.append(song_title)\n",
    "    return database\n",
    "\n",
    "add_song('end of the road')"
   ]
  },
  {
   "cell_type": "code",
   "execution_count": null,
   "metadata": {
    "collapsed": false
   },
   "outputs": [],
   "source": [
    "add_song('happy')"
   ]
  }
 ],
 "metadata": {
  "kernelspec": {
   "display_name": "Python 3",
   "language": "python",
   "name": "python3"
  },
  "language_info": {
   "codemirror_mode": {
    "name": "ipython",
    "version": 3
   },
   "file_extension": ".py",
   "mimetype": "text/x-python",
   "name": "python",
   "nbconvert_exporter": "python",
   "pygments_lexer": "ipython3",
   "version": "3.5.1"
  }
 },
 "nbformat": 4,
 "nbformat_minor": 1
}
