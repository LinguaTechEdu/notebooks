{
 "cells": [
  {
   "cell_type": "markdown",
   "metadata": {},
   "source": [
    "# Explore\n",
    "\n",
    "We've used a lot of built-in functions so far. These are functions like `len`, `dict`, `print`, `zip`, and `list`. These are always available to us.\n",
    "\n",
    "But there's usually some overlap with our data types and built-in functions. That overlap is created by the common objects these things share. Let's get into an example with one question:\n",
    "\n",
    "What do strings, tuples and lists have in common?"
   ]
  },
  {
   "cell_type": "code",
   "execution_count": 15,
   "metadata": {
    "collapsed": false
   },
   "outputs": [
    {
     "name": "stdout",
     "output_type": "stream",
     "text": [
      "t\n",
      "Star Jones\n"
     ]
    }
   ],
   "source": [
    "username = \"Star\"\n",
    "print(username[1])\n",
    "username += ' Jones'\n",
    "print(username)"
   ]
  },
  {
   "cell_type": "code",
   "execution_count": 16,
   "metadata": {
    "collapsed": false
   },
   "outputs": [
    {
     "name": "stdout",
     "output_type": "stream",
     "text": [
      "['Destiny', 'Star', 'Joy', 'River']\n"
     ]
    }
   ],
   "source": [
    "database = ['Destiny', 'Star', 'Joy']\n",
    "database += ['River']\n",
    "print(database)"
   ]
  },
  {
   "cell_type": "code",
   "execution_count": 17,
   "metadata": {
    "collapsed": false
   },
   "outputs": [
    {
     "data": {
      "text/plain": [
       "10"
      ]
     },
     "execution_count": 17,
     "metadata": {},
     "output_type": "execute_result"
    }
   ],
   "source": [
    "len(username)"
   ]
  },
  {
   "cell_type": "code",
   "execution_count": 18,
   "metadata": {
    "collapsed": false
   },
   "outputs": [
    {
     "data": {
      "text/plain": [
       "4"
      ]
     },
     "execution_count": 18,
     "metadata": {},
     "output_type": "execute_result"
    }
   ],
   "source": [
    "len(database)"
   ]
  },
  {
   "cell_type": "code",
   "execution_count": 19,
   "metadata": {
    "collapsed": false
   },
   "outputs": [
    {
     "data": {
      "text/plain": [
       "3"
      ]
     },
     "execution_count": 19,
     "metadata": {},
     "output_type": "execute_result"
    }
   ],
   "source": [
    "thanksgiving = ('2016', '11', '28')\n",
    "len(thanksgiving)"
   ]
  },
  {
   "cell_type": "markdown",
   "metadata": {},
   "source": [
    "All of these are of the same `type`: Sequence. Sequences have their own set of methods just like other objects. Because all of these are of the same type, they share many of the same methods.\n",
    "\n",
    "## Discover new string methods\n",
    "\n",
    "Check out the documentation on Strings: https://docs.python.org/3/library/stdtypes.html#string-methods\n",
    "\n",
    "Which ones do you find most interesting? Does a use case come to mind? Use it to experiment with string methods. We'll go around the class sharing 5 of the most common methods. Some important things to remember though:\n",
    "\n",
    "* Strings are immutable sequences.\n",
    "* Tuples are immutable sequences.\n",
    "\n",
    "## Quotes\n",
    "The important thing to remember about using quotes is that you should use them consistently. Don't mix and match: if you want to use double quotes, always use double quotes. Same for single quotes. The only rule here is to be consistent."
   ]
  },
  {
   "cell_type": "code",
   "execution_count": 20,
   "metadata": {
    "collapsed": false
   },
   "outputs": [
    {
     "name": "stdout",
     "output_type": "stream",
     "text": [
      "I like reading \"Lord of the Rings\"\n"
     ]
    }
   ],
   "source": [
    "my_string = 'I like reading \"Lord of the Rings\"'\n",
    "print(my_string)"
   ]
  },
  {
   "cell_type": "code",
   "execution_count": 21,
   "metadata": {
    "collapsed": false
   },
   "outputs": [
    {
     "name": "stdout",
     "output_type": "stream",
     "text": [
      "'Lord of the Rings' sucks.\n"
     ]
    }
   ],
   "source": [
    "new_string = \"'Lord of the Rings' sucks.\"\n",
    "print(broken_string)"
   ]
  },
  {
   "cell_type": "code",
   "execution_count": 22,
   "metadata": {
    "collapsed": false
   },
   "outputs": [
    {
     "name": "stdout",
     "output_type": "stream",
     "text": [
      "This is usually used as a docstring,\n",
      "a way of adding long comments and details to your code.\n",
      "It can span many lines.\n"
     ]
    }
   ],
   "source": [
    "many_lines = \"\"\"This is usually used as a docstring,\n",
    "a way of adding long comments and details to your code.\n",
    "It can span many lines.\"\"\"\n",
    "print(many_lines)"
   ]
  },
  {
   "cell_type": "code",
   "execution_count": 23,
   "metadata": {
    "collapsed": false
   },
   "outputs": [
    {
     "name": "stdout",
     "output_type": "stream",
     "text": [
      "cheeseburger\n"
     ]
    }
   ],
   "source": [
    "burger = ('cheese' 'burger')\n",
    "print(burger)"
   ]
  },
  {
   "cell_type": "code",
   "execution_count": null,
   "metadata": {
    "collapsed": true
   },
   "outputs": [],
   "source": []
  }
 ],
 "metadata": {
  "anaconda-cloud": {},
  "kernelspec": {
   "display_name": "Python [default]",
   "language": "python",
   "name": "python3"
  },
  "language_info": {
   "codemirror_mode": {
    "name": "ipython",
    "version": 3
   },
   "file_extension": ".py",
   "mimetype": "text/x-python",
   "name": "python",
   "nbconvert_exporter": "python",
   "pygments_lexer": "ipython3",
   "version": "3.5.2"
  }
 },
 "nbformat": 4,
 "nbformat_minor": 1
}
