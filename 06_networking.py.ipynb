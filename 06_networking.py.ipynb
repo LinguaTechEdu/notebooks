{
 "cells": [
  {
   "cell_type": "markdown",
   "metadata": {},
   "source": [
    "# Networking\n",
    "\n",
    "So what is this stuff called networking? It's what happens when computers connect with one another. There's this famous one out there called the internet(work).\n",
    "\n",
    "A common type of network is the client-server model. This is where one computer acts as a service and the other(s) act as clients. You can think of clients as visitors or customers and the server as a literal server: it serves files to visitors.\n",
    "\n",
    "You primarily use networks as a client. You open your web browser and go to whatever sites you want to visit. Today you're going to learn how to be a server.\n",
    "\n",
    "#### Sockets\n",
    "Sockets is a Python module that helps us open up network connections on our computer. We can use it to be a client or a server or both."
   ]
  },
  {
   "cell_type": "code",
   "execution_count": null,
   "metadata": {
    "collapsed": true
   },
   "outputs": [],
   "source": [
    "import socket\n",
    "import threading\n",
    "\n",
    "bind_ip = \"0.0.0.0\"\n",
    "bind_port = 9999\n",
    "\n",
    "server = socket.socket(socket.AF_INET, socket.SOCK_STREAM)\n",
    "server.bind((bind_ip, bind_port))\n",
    "\n",
    "server.listen(5)\n",
    "\n",
    "print\"[*] Listening on %s:%d\" % (bind_ip, bind_port)\n"
   ]
  },
  {
   "cell_type": "markdown",
   "metadata": {},
   "source": [
    "We're going to need a real terminal for this. \n",
    "\n",
    "Windows: Start > powershell\n",
    "Unix: Applications > Terminal"
   ]
  }
 ],
 "metadata": {
  "kernelspec": {
   "display_name": "Python [default]",
   "language": "python",
   "name": "python3"
  },
  "language_info": {
   "codemirror_mode": {
    "name": "ipython",
    "version": 3
   },
   "file_extension": ".py",
   "mimetype": "text/x-python",
   "name": "python",
   "nbconvert_exporter": "python",
   "pygments_lexer": "ipython3",
   "version": "3.5.2"
  }
 },
 "nbformat": 4,
 "nbformat_minor": 1
}
