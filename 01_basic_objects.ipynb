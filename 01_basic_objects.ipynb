{
 "cells": [
  {
   "cell_type": "code",
   "execution_count": 1,
   "metadata": {},
   "outputs": [
    {
     "name": "stdout",
     "output_type": "stream",
     "text": [
      "The Zen of Python, by Tim Peters\n",
      "\n",
      "Beautiful is better than ugly.\n",
      "Explicit is better than implicit.\n",
      "Simple is better than complex.\n",
      "Complex is better than complicated.\n",
      "Flat is better than nested.\n",
      "Sparse is better than dense.\n",
      "Readability counts.\n",
      "Special cases aren't special enough to break the rules.\n",
      "Although practicality beats purity.\n",
      "Errors should never pass silently.\n",
      "Unless explicitly silenced.\n",
      "In the face of ambiguity, refuse the temptation to guess.\n",
      "There should be one-- and preferably only one --obvious way to do it.\n",
      "Although that way may not be obvious at first unless you're Dutch.\n",
      "Now is better than never.\n",
      "Although never is often better than *right* now.\n",
      "If the implementation is hard to explain, it's a bad idea.\n",
      "If the implementation is easy to explain, it may be a good idea.\n",
      "Namespaces are one honking great idea -- let's do more of those!\n"
     ]
    }
   ],
   "source": [
    "import this"
   ]
  },
  {
   "cell_type": "markdown",
   "metadata": {},
   "source": [
    "# Python Basics Overview\n",
    "\n",
    "FIRST ...make sure you've got your notebooks open! With these notebooks you can run your code right next to all those notes you're taking to remember the information!\n",
    "\n",
    "Let's talk a little bit about what we do with Python. Concepts to Cover: \n",
    "* Variables\n",
    "* Functions\n",
    "* Arguments\n",
    "* Comparisons\n",
    "* Conditionals\n",
    "\n",
    "These are the building blocks of your code. They exist to help you create operations that *return values*."
   ]
  },
  {
   "cell_type": "markdown",
   "metadata": {},
   "source": [
    "### Data Types\n",
    "There's an entire lesson dedicated to these, so for now let's just get familiar with their names and syntax.\n",
    "\n",
    "1. Integers: 1, -32, 207\n",
    "2. Strings: \"Hello, World!\"\n",
    "3. Lists: ['apples', 'oranges', 'bananas']\n",
    "4. OPTIONAL: Dictionaries: {'name': 'James Bond', 'email': 'jbond@example.com'}\n",
    "5. OPTIONAL: Tuples: ('James Bond', 'jbond@example.com', 007)\n",
    "6. OPTIONAL: Booleans: True, False\n",
    "\n",
    "Take note of the distinguishing syntax at the beginning and end of each object: quotes, brackets, braces ...these are a simple way to identy what data type is being used. And for this lesson those identifiers are all you need to know. We'll stick to strings and numbers for now."
   ]
  },
  {
   "cell_type": "markdown",
   "metadata": {},
   "source": [
    "### Variables\n",
    "\n",
    "Variables are pretty much the same thing as we learned in Algebra: representatives of values. Let's look at how this might work."
   ]
  },
  {
   "cell_type": "code",
   "execution_count": 1,
   "metadata": {},
   "outputs": [
    {
     "data": {
      "text/plain": [
       "4"
      ]
     },
     "execution_count": 1,
     "metadata": {},
     "output_type": "execute_result"
    }
   ],
   "source": [
    "# Let's store an integer, 3, in a variable named x\n",
    "x = 3\n",
    "x + 1\n"
   ]
  },
  {
   "cell_type": "code",
   "execution_count": 2,
   "metadata": {},
   "outputs": [
    {
     "data": {
      "text/plain": [
       "'Kay Hudson'"
      ]
     },
     "execution_count": 2,
     "metadata": {},
     "output_type": "execute_result"
    }
   ],
   "source": [
    "my_name = 'Kay Hudson'\n",
    "my_name"
   ]
  },
  {
   "cell_type": "markdown",
   "metadata": {},
   "source": [
    "### __Practice__\n",
    "Let's create some variables. We can use them later on for our functions and methods!"
   ]
  },
  {
   "cell_type": "code",
   "execution_count": 42,
   "metadata": {
    "collapsed": true
   },
   "outputs": [],
   "source": [
    "# Create the following variables: song, artist, album\n",
    "title = 'My song list'\n",
    "song = # ...complete me ...then make the other 2 variables: artist and album"
   ]
  },
  {
   "cell_type": "markdown",
   "metadata": {},
   "source": [
    "### Math Operations\n",
    "\n",
    "Doing things such as adding and multiplying is simple:"
   ]
  },
  {
   "cell_type": "code",
   "execution_count": 4,
   "metadata": {},
   "outputs": [
    {
     "data": {
      "text/plain": [
       "1"
      ]
     },
     "execution_count": 4,
     "metadata": {},
     "output_type": "execute_result"
    }
   ],
   "source": [
    "1+1  # addition\n",
    "2*3  # multiplication\n",
    "2**2 # exponents\n",
    "4/2  # division\n",
    "5-4  # subtraction\n",
    "22%3 # division: modulus (remainder)"
   ]
  },
  {
   "cell_type": "code",
   "execution_count": 1,
   "metadata": {},
   "outputs": [
    {
     "data": {
      "text/plain": [
       "4"
      ]
     },
     "execution_count": 1,
     "metadata": {},
     "output_type": "execute_result"
    }
   ],
   "source": [
    "# Try out some math operations below!\n",
    "# Remember: Click \"Run\" from the menu or press SHIFT + ENTER to run the code in this box.\n",
    "\n"
   ]
  },
  {
   "cell_type": "markdown",
   "metadata": {},
   "source": [
    "### Functions and Methods\n",
    "\n",
    "Creating a function begins by using the `def` keyword followed by the name of the function. Note: syntax, indentaiono, and definition vs. call"
   ]
  },
  {
   "cell_type": "code",
   "execution_count": 25,
   "metadata": {},
   "outputs": [
    {
     "data": {
      "text/plain": [
       "'Hello, World!'"
      ]
     },
     "execution_count": 25,
     "metadata": {},
     "output_type": "execute_result"
    }
   ],
   "source": [
    "def hello():\n",
    "    return 'Hello, World!'\n",
    "\n",
    "hello()"
   ]
  },
  {
   "cell_type": "markdown",
   "metadata": {},
   "source": [
    "#### Function Arguments\n",
    "An argument is an abstract concept. It refers to *any* data or object that the function needs to execute commands. It is a placeholder for data that will be used later when the function is executed."
   ]
  },
  {
   "cell_type": "code",
   "execution_count": 1,
   "metadata": {},
   "outputs": [
    {
     "data": {
      "text/plain": [
       "'Hello, Batman'"
      ]
     },
     "execution_count": 1,
     "metadata": {},
     "output_type": "execute_result"
    }
   ],
   "source": [
    "# 'name' is an argument. It's like a variable that represents any data you want\n",
    "# def is a keyword\n",
    "# 'hello' is the name we made up for the function\n",
    "def hello(name):\n",
    "    # return is a keyword that you can use within functions to return a response\n",
    "    return 'Hello, ' + name\n",
    "\n",
    "# Call our newly created function with a name...\n",
    "hello('Batman')"
   ]
  },
  {
   "cell_type": "markdown",
   "metadata": {},
   "source": [
    "Notice how we \"add\" 'hello' and name together. This is called concatenation and we'll talk about it more later.\n",
    "\n",
    "### Practice\n",
    "\n",
    "Let's open our basic.py script again and practice writing functions."
   ]
  },
  {
   "cell_type": "code",
   "execution_count": null,
   "metadata": {},
   "outputs": [],
   "source": [
    "# Write the following 2 functions:\n",
    "# a function that returns: \"Song created.\"\n",
    "# a function that takes argument song, prints the song, and returns: \"Song saved.\"\n",
    "# Then run your functions one by one to see if you get the correct results.\n",
    "\n",
    "def add_song_to_very_long_list(song):\n",
    "    # your code here\n",
    "\n",
    "    \n",
    "def save_song(song):\n",
    "    # your code here\n",
    "\n"
   ]
  },
  {
   "cell_type": "markdown",
   "metadata": {},
   "source": [
    "## Comparisons\n",
    "\n",
    "One final small thing you'll find handy everyday: comparisons. They help you compare values between two or more objects.\n",
    "\n",
    "Note how each statement \"returns\" `True/False` by simply typying each statement. Comparisons always return the truth value."
   ]
  },
  {
   "cell_type": "code",
   "execution_count": 5,
   "metadata": {},
   "outputs": [
    {
     "data": {
      "text/plain": [
       "True"
      ]
     },
     "execution_count": 5,
     "metadata": {},
     "output_type": "execute_result"
    }
   ],
   "source": [
    "1 == 1  # think of the two signs as \"is equivalent\" to"
   ]
  },
  {
   "cell_type": "code",
   "execution_count": 7,
   "metadata": {},
   "outputs": [
    {
     "data": {
      "text/plain": [
       "True"
      ]
     },
     "execution_count": 7,
     "metadata": {},
     "output_type": "execute_result"
    }
   ],
   "source": [
    "my_list = ['chair']\n",
    "new_list = ['chair']\n",
    "my_list is new_list\n",
    "my_list == new_list"
   ]
  },
  {
   "cell_type": "code",
   "execution_count": null,
   "metadata": {
    "collapsed": true
   },
   "outputs": [],
   "source": [
    "my list"
   ]
  },
  {
   "cell_type": "code",
   "execution_count": 29,
   "metadata": {},
   "outputs": [
    {
     "data": {
      "text/plain": [
       "True"
      ]
     },
     "execution_count": 29,
     "metadata": {},
     "output_type": "execute_result"
    }
   ],
   "source": [
    "'Book' == 'Book'"
   ]
  },
  {
   "cell_type": "code",
   "execution_count": 30,
   "metadata": {},
   "outputs": [
    {
     "data": {
      "text/plain": [
       "False"
      ]
     },
     "execution_count": 30,
     "metadata": {},
     "output_type": "execute_result"
    }
   ],
   "source": [
    "'car' == 'Car'  # Case matters"
   ]
  },
  {
   "cell_type": "code",
   "execution_count": 31,
   "metadata": {},
   "outputs": [
    {
     "data": {
      "text/plain": [
       "True"
      ]
     },
     "execution_count": 31,
     "metadata": {},
     "output_type": "execute_result"
    }
   ],
   "source": [
    "('car' == 'Car') or ('Book' == 'Book') # This means one of these statements is true"
   ]
  },
  {
   "cell_type": "markdown",
   "metadata": {},
   "source": [
    "### Practice\n",
    "\n",
    "Test out your new knowledge of variables by completing the tasks below:"
   ]
  },
  {
   "cell_type": "code",
   "execution_count": 2,
   "metadata": {
    "collapsed": true
   },
   "outputs": [],
   "source": [
    "# Write 2 new variables for 2 new songs. Name them song_2 and song_3\n",
    "# Then write a function that compares the two new songs to see if they're the same.\n",
    "# The function should return True or False"
   ]
  },
  {
   "cell_type": "markdown",
   "metadata": {},
   "source": [
    "### Conditionals\n",
    "\n",
    "Conditional statements are logic. They check that something is true or false and perform an operation based on that."
   ]
  },
  {
   "cell_type": "code",
   "execution_count": 33,
   "metadata": {},
   "outputs": [
    {
     "name": "stdout",
     "output_type": "stream",
     "text": [
      "Life is perfect.\n"
     ]
    }
   ],
   "source": [
    "answer = 42\n",
    "\n",
    "if answer == 42:\n",
    "    print(\"Life is perfect.\")\n",
    "else:\n",
    "    print(\"Life is mysterious.\")"
   ]
  },
  {
   "cell_type": "markdown",
   "metadata": {},
   "source": [
    "Conditionals can be nested:"
   ]
  },
  {
   "cell_type": "code",
   "execution_count": 34,
   "metadata": {
    "scrolled": true
   },
   "outputs": [
    {
     "name": "stdout",
     "output_type": "stream",
     "text": [
      "Successful login.\n"
     ]
    }
   ],
   "source": [
    "username = 'george'\n",
    "password = 'secret'\n",
    "\n",
    "if username == 'george':\n",
    "    if password == 'secret':\n",
    "        print('Successful login.')\n",
    "    else:\n",
    "        print('Incorrect password.')\n",
    "elif 'cat' in 'shoe':\n",
    "    print('Incorrect username.')"
   ]
  },
  {
   "cell_type": "markdown",
   "metadata": {},
   "source": [
    "### Validate\n",
    "\n",
    "This simple statement checks for truth."
   ]
  },
  {
   "cell_type": "code",
   "execution_count": 35,
   "metadata": {},
   "outputs": [
    {
     "data": {
      "text/plain": [
       "True"
      ]
     },
     "execution_count": 35,
     "metadata": {},
     "output_type": "execute_result"
    }
   ],
   "source": [
    "'i' in 'aeiou'"
   ]
  },
  {
   "cell_type": "code",
   "execution_count": 36,
   "metadata": {},
   "outputs": [
    {
     "data": {
      "text/plain": [
       "False"
      ]
     },
     "execution_count": 36,
     "metadata": {},
     "output_type": "execute_result"
    }
   ],
   "source": [
    "'shoe' is 'cat'"
   ]
  },
  {
   "cell_type": "code",
   "execution_count": 37,
   "metadata": {},
   "outputs": [
    {
     "data": {
      "text/plain": [
       "True"
      ]
     },
     "execution_count": 37,
     "metadata": {},
     "output_type": "execute_result"
    }
   ],
   "source": [
    "'p' not in 'aeiou'"
   ]
  },
  {
   "cell_type": "code",
   "execution_count": 38,
   "metadata": {},
   "outputs": [
    {
     "data": {
      "text/plain": [
       "True"
      ]
     },
     "execution_count": 38,
     "metadata": {},
     "output_type": "execute_result"
    }
   ],
   "source": [
    "'shoe' is not 'cat'"
   ]
  },
  {
   "cell_type": "markdown",
   "metadata": {},
   "source": [
    "But be very careful with these. You may think that using `==` would be the same as using `is` but they do different things. `is` compares object identity, while `==` compares object value."
   ]
  },
  {
   "cell_type": "code",
   "execution_count": 39,
   "metadata": {},
   "outputs": [
    {
     "data": {
      "text/plain": [
       "True"
      ]
     },
     "execution_count": 39,
     "metadata": {},
     "output_type": "execute_result"
    }
   ],
   "source": [
    "a = []\n",
    "b = []\n",
    "a == b"
   ]
  },
  {
   "cell_type": "code",
   "execution_count": 40,
   "metadata": {},
   "outputs": [
    {
     "data": {
      "text/plain": [
       "False"
      ]
     },
     "execution_count": 40,
     "metadata": {},
     "output_type": "execute_result"
    }
   ],
   "source": [
    "a is b"
   ]
  },
  {
   "cell_type": "markdown",
   "metadata": {},
   "source": [
    "### Practice Time\n",
    "\n",
    "Let's dig in and put these conditionals and loops to work."
   ]
  },
  {
   "cell_type": "code",
   "execution_count": 3,
   "metadata": {
    "collapsed": true
   },
   "outputs": [],
   "source": [
    "# Create a variable whose value is a single string named users with three names. ex \"name1 name2 name3\"\n",
    "users = \"\"\n",
    "\n",
    "# Create a variable whose value is a single string named passwords with three passwords.\n",
    "passwords = \"\"\n",
    "\n",
    "# Create a function that takes a user and password and checks for them in the users and passwords variables\n",
    "def login(user, password):\n",
    "    # Your code here ...\n",
    "    \n",
    "\n",
    "# If the name and password are in the variables, return a success message. If not return a fail message.\n",
    "# Write a test for your function. The tests can use the variable data.\n",
    "\n",
    "\n",
    "def test(expected_value, actual_value):\n",
    "    # Your test here ..."
   ]
  },
  {
   "cell_type": "markdown",
   "metadata": {},
   "source": [
    "### Review:\n",
    "* Functions are objects that execute a series of commands.\n",
    "* Variables store values.\n",
    "* Arguments are like variables; they represent objects we expect to use in a function\n",
    "* Integer operations are simple math operators.\n",
    "* Comparisons compare one or more objects.\n",
    "* Conditionals provide logic to code by setting rules about when things happen.\n",
    "\n",
    "### Practice:\n",
    "1. In the Navigator, launch Spyder. Create a new script named music.py\n",
    "    File > Save and navigate to your desktop and open the workshop folder.\n",
    "2. Create 3 variables each for song, artist, and album.\n",
    "3. Create a variable 'users'.\n",
    "4. Create a variable 'passwords'.\n",
    "4. Create a variable 'is_logged_in' with value False\n",
    "5. Create a variable 'login_attempts' with value 0\n",
    "6. Write a function 'login' that checks username and password. If both are valid, change the value of is_logged_in to True and return a message. If not, login_attempts = 1 and return a message.\n",
    "7. Write a function 'next_track' that takes 3 arguments: song, artist, album. Return a concatenated string that says: \"Now playng song by artist from album.\""
   ]
  },
  {
   "cell_type": "code",
   "execution_count": null,
   "metadata": {},
   "outputs": [],
   "source": []
  }
 ],
 "metadata": {
  "anaconda-cloud": {},
  "kernelspec": {
   "display_name": "Python 3",
   "language": "python",
   "name": "python3"
  },
  "language_info": {
   "codemirror_mode": {
    "name": "ipython",
    "version": 3
   },
   "file_extension": ".py",
   "mimetype": "text/x-python",
   "name": "python",
   "nbconvert_exporter": "python",
   "pygments_lexer": "ipython3",
   "version": "3.6.4"
  }
 },
 "nbformat": 4,
 "nbformat_minor": 1
}
