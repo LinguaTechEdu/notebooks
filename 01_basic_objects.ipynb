{
 "cells": [
  {
   "cell_type": "markdown",
   "metadata": {},
   "source": [
    "# Python Basics Overview\n",
    "\n",
    "FIRST ...make sure you've got your notebooks open! With these notebooks you can run your code right next to all those notes you're taking to remember the information!\n",
    "\n",
    "Let's talk a little bit about what we do with Python. Concepts to Cover: \n",
    "* Variables\n",
    "* Functions\n",
    "* Arguments\n",
    "* Comparisons\n",
    "* Conditionals\n",
    "\n",
    "These are the building blocks of your code. They exist to help you create operations that *return values*."
   ]
  },
  {
   "cell_type": "markdown",
   "metadata": {},
   "source": [
    "### Data Types\n",
    "There's an entire lesson dedicated to these, so for now let's just get familiar with their names and syntax.\n",
    "\n",
    "1. Integers: 1, -32, 207\n",
    "2. Strings: \"Hello, World!\"\n",
    "3. Lists: ['apples', 'oranges', 'bananas']\n",
    "4. OPTIONAL: Dictionaries: {'name': 'James Bond', 'email': 'jbond@example.com'}\n",
    "5. OPTIONAL: Tuples: ('James Bond', 'jbond@example.com', 007)\n",
    "6. OPTIONAL: Booleans: True, False\n",
    "\n",
    "Take note of the distinguishing syntax at the beginning and end of each object: quotes, brackets, braces ...these are a simple way to identy what data type is being used. And for this lesson those identifiers are all you need to know. We'll stick to strings and numbers for now."
   ]
  },
  {
   "cell_type": "markdown",
   "metadata": {},
   "source": [
    "### Variables\n",
    "\n",
    "Variables are pretty much the same thing as we learned in Algebra: representatives of values. Let's look at how this might work."
   ]
  },
  {
   "cell_type": "code",
   "execution_count": 23,
   "metadata": {},
   "outputs": [
    {
     "data": {
      "text/plain": [
       "4"
      ]
     },
     "execution_count": 23,
     "metadata": {},
     "output_type": "execute_result"
    }
   ],
   "source": [
    "# Let's store an integer, 3, in a variable named x\n",
    "x = 3\n",
    "x + 1"
   ]
  },
  {
   "cell_type": "markdown",
   "metadata": {},
   "source": [
    "## >>>>>>>__Practice__<<<<<<<\n",
    "Let's create some variables. We can use them later on for our functions and methods!"
   ]
  },
  {
   "cell_type": "code",
   "execution_count": 42,
   "metadata": {
    "collapsed": true
   },
   "outputs": [],
   "source": [
    "# Create the following variables: song, artist, album\n",
    "title = 'My song list'\n",
    "song = # ...complete me ...then make the other 2 variables: artist and album\n"
   ]
  },
  {
   "cell_type": "markdown",
   "metadata": {},
   "source": [
    "### Math Operations\n",
    "\n",
    "Doing things such as adding and multiplying is simple:"
   ]
  },
  {
   "cell_type": "code",
   "execution_count": 4,
   "metadata": {},
   "outputs": [
    {
     "data": {
      "text/plain": [
       "1"
      ]
     },
     "execution_count": 4,
     "metadata": {},
     "output_type": "execute_result"
    }
   ],
   "source": [
    "1+1  # addition\n",
    "2*3  # multiplication\n",
    "2**2 # exponents\n",
    "4/2  # division\n",
    "5-4  # subtraction\n",
    "22%3 # division: modulus (remainder)"
   ]
  },
  {
   "cell_type": "markdown",
   "metadata": {},
   "source": [
    "### Functions and Methods\n",
    "\n",
    "Creating a function begins by using the `def` keyword followed by the name of the function. "
   ]
  },
  {
   "cell_type": "code",
   "execution_count": 25,
   "metadata": {},
   "outputs": [
    {
     "data": {
      "text/plain": [
       "'Hello, World!'"
      ]
     },
     "execution_count": 25,
     "metadata": {},
     "output_type": "execute_result"
    }
   ],
   "source": [
    "def hello():\n",
    "    return 'Hello, World!'\n",
    "\n",
    "hello()"
   ]
  },
  {
   "cell_type": "markdown",
   "metadata": {},
   "source": [
    "#### Function Arguments\n",
    "An argument is an object you use in your function, which will then be used to perform operations. You can think of them as variables: an argument value can be anything we want. "
   ]
  },
  {
   "cell_type": "code",
   "execution_count": 1,
   "metadata": {},
   "outputs": [
    {
     "data": {
      "text/plain": [
       "'Hello, Batman'"
      ]
     },
     "execution_count": 1,
     "metadata": {},
     "output_type": "execute_result"
    }
   ],
   "source": [
    "# 'name' is an argument. It's like a variable that represents any data you want\n",
    "# def is a keyword\n",
    "# 'hello' is the name we made up for the function\n",
    "def hello(name):\n",
    "    # return is a keyword that you can use within functions to return a response\n",
    "    return 'Hello, ' + name\n",
    "\n",
    "# Call our newly created function with a name...\n",
    "hello('Batman')"
   ]
  },
  {
   "cell_type": "markdown",
   "metadata": {},
   "source": [
    "Notice how we \"add\" 'hello' and name together. This is called concatenation and we'll talk about it more later.\n",
    "\n",
    "## >>>>>>>**Practice**<<<<<<<\n",
    "\n",
    "Let's open our basic.py script again and practice writing functions."
   ]
  },
  {
   "cell_type": "code",
   "execution_count": 5,
   "metadata": {
    "collapsed": true
   },
   "outputs": [],
   "source": [
    "# Write the following functions:\n",
    "# a function that takes argument song and returns: \"Song created.\"\n",
    "# a function that takes argument artist and returns: \"Artist saved.\"\n",
    "# a function that takes all and returns: 'Track created successfully.'\n"
   ]
  },
  {
   "cell_type": "markdown",
   "metadata": {},
   "source": [
    "### Comparisons\n",
    "\n",
    "One final small thing you'll find handy everyday: comparisons. They help you compare values between two or more objects.\n",
    "\n",
    "Note how each statement \"returns\" `True/False` by simply typying each statement. Comparisons always return the truth value."
   ]
  },
  {
   "cell_type": "code",
   "execution_count": 28,
   "metadata": {},
   "outputs": [
    {
     "data": {
      "text/plain": [
       "False"
      ]
     },
     "execution_count": 28,
     "metadata": {},
     "output_type": "execute_result"
    }
   ],
   "source": [
    "1 == 2  # think of the two signs as \"is equivalent\" to"
   ]
  },
  {
   "cell_type": "code",
   "execution_count": 29,
   "metadata": {},
   "outputs": [
    {
     "data": {
      "text/plain": [
       "True"
      ]
     },
     "execution_count": 29,
     "metadata": {},
     "output_type": "execute_result"
    }
   ],
   "source": [
    "'Book' == 'Book'"
   ]
  },
  {
   "cell_type": "code",
   "execution_count": 30,
   "metadata": {},
   "outputs": [
    {
     "data": {
      "text/plain": [
       "False"
      ]
     },
     "execution_count": 30,
     "metadata": {},
     "output_type": "execute_result"
    }
   ],
   "source": [
    "'car' == 'Car'  # Case matters"
   ]
  },
  {
   "cell_type": "code",
   "execution_count": 31,
   "metadata": {},
   "outputs": [
    {
     "data": {
      "text/plain": [
       "True"
      ]
     },
     "execution_count": 31,
     "metadata": {},
     "output_type": "execute_result"
    }
   ],
   "source": [
    "('car' == 'Car') or ('Book' == 'Book') # This means one of these statements is true"
   ]
  },
  {
   "cell_type": "markdown",
   "metadata": {},
   "source": [
    "Adding 'Hello' and name together like this is called concatenation and we'll discuss it a little more below.\n",
    "\n",
    "## >>>>>>Practice<<<<<<\n",
    "\n",
    "Test out your new knowledge of variables by completing the tasks below:"
   ]
  },
  {
   "cell_type": "code",
   "execution_count": 2,
   "metadata": {
    "collapsed": true
   },
   "outputs": [],
   "source": [
    "# Write 2 new variables for 2 new songs. Name them what you think is best\n",
    "# Then write a function that compares the two new songs to see if they're the same.\n",
    "# The function should return True or False when called"
   ]
  },
  {
   "cell_type": "markdown",
   "metadata": {},
   "source": [
    "### Conditionals\n",
    "\n",
    "Conditional statements are logic. They check that something is true or false and perform an operation based on that."
   ]
  },
  {
   "cell_type": "code",
   "execution_count": 33,
   "metadata": {},
   "outputs": [
    {
     "name": "stdout",
     "output_type": "stream",
     "text": [
      "Life is perfect.\n"
     ]
    }
   ],
   "source": [
    "answer = 42\n",
    "\n",
    "if answer == 42:\n",
    "    print(\"Life is perfect.\")\n",
    "else:\n",
    "    print(\"Life is mysterious.\")"
   ]
  },
  {
   "cell_type": "markdown",
   "metadata": {},
   "source": [
    "Conditionals can be nested:"
   ]
  },
  {
   "cell_type": "code",
   "execution_count": 34,
   "metadata": {
    "scrolled": true
   },
   "outputs": [
    {
     "name": "stdout",
     "output_type": "stream",
     "text": [
      "Successful login.\n"
     ]
    }
   ],
   "source": [
    "username = 'george'\n",
    "password = 'secret'\n",
    "\n",
    "if username == 'george':\n",
    "    if password == 'secret':\n",
    "        print('Successful login.')\n",
    "    else:\n",
    "        print('Incorrect password.')\n",
    "else:\n",
    "    print('Incorrect username.')"
   ]
  },
  {
   "cell_type": "markdown",
   "metadata": {},
   "source": [
    "### Validate\n",
    "\n",
    "This simple statement checks for truth."
   ]
  },
  {
   "cell_type": "code",
   "execution_count": 35,
   "metadata": {},
   "outputs": [
    {
     "data": {
      "text/plain": [
       "True"
      ]
     },
     "execution_count": 35,
     "metadata": {},
     "output_type": "execute_result"
    }
   ],
   "source": [
    "'i' in 'aeiou'"
   ]
  },
  {
   "cell_type": "code",
   "execution_count": 36,
   "metadata": {},
   "outputs": [
    {
     "data": {
      "text/plain": [
       "False"
      ]
     },
     "execution_count": 36,
     "metadata": {},
     "output_type": "execute_result"
    }
   ],
   "source": [
    "'shoe' is 'cat'"
   ]
  },
  {
   "cell_type": "code",
   "execution_count": 37,
   "metadata": {},
   "outputs": [
    {
     "data": {
      "text/plain": [
       "True"
      ]
     },
     "execution_count": 37,
     "metadata": {},
     "output_type": "execute_result"
    }
   ],
   "source": [
    "'p' not in 'aeiou'"
   ]
  },
  {
   "cell_type": "code",
   "execution_count": 38,
   "metadata": {},
   "outputs": [
    {
     "data": {
      "text/plain": [
       "True"
      ]
     },
     "execution_count": 38,
     "metadata": {},
     "output_type": "execute_result"
    }
   ],
   "source": [
    "'shoe' is not 'cat'"
   ]
  },
  {
   "cell_type": "markdown",
   "metadata": {},
   "source": [
    "But be very careful with these. You may think that using `==` would be the same as using `is` but they do different things. `is` compares object identity, while `==` compares object value."
   ]
  },
  {
   "cell_type": "code",
   "execution_count": 39,
   "metadata": {},
   "outputs": [
    {
     "data": {
      "text/plain": [
       "True"
      ]
     },
     "execution_count": 39,
     "metadata": {},
     "output_type": "execute_result"
    }
   ],
   "source": [
    "a = []\n",
    "b = []\n",
    "a == b"
   ]
  },
  {
   "cell_type": "code",
   "execution_count": 40,
   "metadata": {},
   "outputs": [
    {
     "data": {
      "text/plain": [
       "False"
      ]
     },
     "execution_count": 40,
     "metadata": {},
     "output_type": "execute_result"
    }
   ],
   "source": [
    "a is b"
   ]
  },
  {
   "cell_type": "markdown",
   "metadata": {},
   "source": [
    "### >>>>>>>**Practice Time**<<<<<<<\n",
    "\n",
    "Let's dig in and put these conditionals and loops to work."
   ]
  },
  {
   "cell_type": "code",
   "execution_count": 3,
   "metadata": {
    "collapsed": true
   },
   "outputs": [],
   "source": [
    "# Create a single string named users with three names. ex \"name1 name2 name3\"\n",
    "# Create a single string named passwords with three passwords.\n",
    "# Create a function that takes a user and password and checks if they \n",
    "# mach the users and passwords our strings.\n",
    "# If the name and password match, return a success message. If not\n",
    "# return a fail message.\n",
    "# Write a test for your function. The tests can use the variable data.\n",
    "users = \"\"\n",
    "passwords = \"\"\n",
    "\n",
    "def is_authorized(user, pwd):\n",
    "    if user in users and pwd in passwords:\n",
    "        return \"Authorization successful!\"\n",
    "    else:\n",
    "        return \"Not authorized.\""
   ]
  },
  {
   "cell_type": "markdown",
   "metadata": {},
   "source": [
    "#### Review:\n",
    "* Functions\n",
    "* Variables\n",
    "* Arguments\n",
    "* Integer operations\n",
    "* Comparisons\n",
    "* Conditionals\n",
    "\n",
    "##### Practice:\n",
    "1. Create a new script named music.py\n",
    "2. Create 3 variables each for song, artist, and album.\n",
    "3. Create a variable 'users'.\n",
    "4. Create a variable 'passwords'.\n",
    "4. Create a variable 'is_logged_in' with value False\n",
    "5. Create a variable 'login_attempts' with value 0\n",
    "6. Write a function 'login' that checks username and password. If both are valid, change the value of is_logged_in to True and return a message. If not, login_attempts = 1 and return a message.\n",
    "7. Write a function 'next_track' that takes 3 arguments: song, artist, album. Return a concatenated string that says: \"Now playng song by artist from album.\""
   ]
  }
 ],
 "metadata": {
  "anaconda-cloud": {},
  "kernelspec": {
   "display_name": "Python 3",
   "language": "python",
   "name": "python3"
  },
  "language_info": {
   "codemirror_mode": {
    "name": "ipython",
    "version": 3
   },
   "file_extension": ".py",
   "mimetype": "text/x-python",
   "name": "python",
   "nbconvert_exporter": "python",
   "pygments_lexer": "ipython3",
   "version": "3.6.1"
  }
 },
 "nbformat": 4,
 "nbformat_minor": 1
}
