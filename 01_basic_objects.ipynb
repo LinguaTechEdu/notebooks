{
 "cells": [
  {
   "cell_type": "markdown",
   "metadata": {},
   "source": [
    "# Python Basics Overview\n",
    "\n",
    "Let's talk a little bit about what we do with Python. Concepts to Cover: \n",
    "* Variables\n",
    "* Functions\n",
    "* Arguments\n",
    "* Comparisons\n",
    "* Conditionals\n",
    "\n",
    "These are the building blocks of your code. They exist to help you create operations that *return values*."
   ]
  },
  {
   "cell_type": "markdown",
   "metadata": {},
   "source": [
    "### Data Types\n",
    "There's an entire lesson dedicated to these, so for now let's just get familiar with their names and syntax.\n",
    "\n",
    "1. Integers: 1, -32, 207\n",
    "2. Strings: \"Hello, World!\"\n",
    "3. Lists: ['apples', 'oranges', 'bananas']\n",
    "4. Dictionaries: {'name': 'James Bond', 'email': 'jbond@example.com'}\n",
    "5. Tuples: ('James Bond', 'jbond@example.com', 007)\n",
    "6. Booleans: True, False\n",
    "\n",
    "Take note of the distinguishing syntax at the beginning and end of each object: quotes, brackets, braces ...these are a simple way to identy what data type is being used. And for this lesson those identifiers are all you need to know. We'll stick to strings and numbers for now."
   ]
  },
  {
   "cell_type": "markdown",
   "metadata": {},
   "source": [
    "### Variables\n",
    "\n",
    "Variables are pretty much the same thing as we learned in Algebra: representatives of values. Let's look at how this might work."
   ]
  },
  {
   "cell_type": "code",
   "execution_count": 23,
   "metadata": {
    "collapsed": false
   },
   "outputs": [
    {
     "data": {
      "text/plain": [
       "4"
      ]
     },
     "execution_count": 23,
     "metadata": {},
     "output_type": "execute_result"
    }
   ],
   "source": [
    "# Let's store an integer, 3, in a variable named x\n",
    "x = 3\n",
    "x + 1"
   ]
  },
  {
   "cell_type": "markdown",
   "metadata": {},
   "source": [
    "## >>>>>>>__Practice__<<<<<<<\n",
    "Let's create some variables. We can use them later on for our functions and methods!"
   ]
  },
  {
   "cell_type": "code",
   "execution_count": 42,
   "metadata": {
    "collapsed": true
   },
   "outputs": [],
   "source": [
    "# Open Spyder and create a new file.\n",
    "# Create the following variables: song, artist, album"
   ]
  },
  {
   "cell_type": "markdown",
   "metadata": {},
   "source": [
    "### Functions and Methods\n",
    "\n",
    "Creating a function begins by using the `def` keyword followed by the name of the function. "
   ]
  },
  {
   "cell_type": "code",
   "execution_count": 25,
   "metadata": {
    "collapsed": false
   },
   "outputs": [
    {
     "data": {
      "text/plain": [
       "'Hello, World!'"
      ]
     },
     "execution_count": 25,
     "metadata": {},
     "output_type": "execute_result"
    }
   ],
   "source": [
    "def hello():\n",
    "    return 'Hello, World!'\n",
    "\n",
    "hello()"
   ]
  },
  {
   "cell_type": "markdown",
   "metadata": {},
   "source": [
    "#### Function Arguments\n",
    "An argument is an object you can pass to a function, which will then be used to perform operations. You can think of them as variables: an argument value can be anything we want. "
   ]
  },
  {
   "cell_type": "code",
   "execution_count": 26,
   "metadata": {
    "collapsed": false
   },
   "outputs": [
    {
     "data": {
      "text/plain": [
       "'Hello, Batman'"
      ]
     },
     "execution_count": 26,
     "metadata": {},
     "output_type": "execute_result"
    }
   ],
   "source": [
    "# 'name' is an argument. It's like a variable that represents any string value.\n",
    "def hello(name):\n",
    "    return 'Hello, ' + name\n",
    "\n",
    "hello('Batman')"
   ]
  },
  {
   "cell_type": "markdown",
   "metadata": {},
   "source": [
    "Notice how we \"add\" 'hello' and name together. This is called concatenation and we'll talk about it more later.\n",
    "\n",
    "## >>>>>>>**Practice**<<<<<<<\n",
    "\n",
    "Let's open our basic.py script again and practice writing functions."
   ]
  },
  {
   "cell_type": "code",
   "execution_count": 27,
   "metadata": {
    "collapsed": true
   },
   "outputs": [],
   "source": [
    "# Write the following functions:\n",
    "# a function that takes argument song and returns: \"Song created.\"\n",
    "# a function that takes argument artist and returns: \"Artist saved.\"\n",
    "# a function that takes all and returns: 'Track created successfully.'"
   ]
  },
  {
   "cell_type": "markdown",
   "metadata": {},
   "source": [
    "### Comparisons\n",
    "\n",
    "One final small thing you'll find handy everyday: comparisons. They help you compare values between two or more objects."
   ]
  },
  {
   "cell_type": "code",
   "execution_count": 28,
   "metadata": {
    "collapsed": false
   },
   "outputs": [
    {
     "data": {
      "text/plain": [
       "False"
      ]
     },
     "execution_count": 28,
     "metadata": {},
     "output_type": "execute_result"
    }
   ],
   "source": [
    "1 == 2"
   ]
  },
  {
   "cell_type": "code",
   "execution_count": 29,
   "metadata": {
    "collapsed": false
   },
   "outputs": [
    {
     "data": {
      "text/plain": [
       "True"
      ]
     },
     "execution_count": 29,
     "metadata": {},
     "output_type": "execute_result"
    }
   ],
   "source": [
    "'Book' == 'Book'"
   ]
  },
  {
   "cell_type": "code",
   "execution_count": 30,
   "metadata": {
    "collapsed": false
   },
   "outputs": [
    {
     "data": {
      "text/plain": [
       "False"
      ]
     },
     "execution_count": 30,
     "metadata": {},
     "output_type": "execute_result"
    }
   ],
   "source": [
    "'car' == 'Car'"
   ]
  },
  {
   "cell_type": "code",
   "execution_count": 31,
   "metadata": {
    "collapsed": false
   },
   "outputs": [
    {
     "data": {
      "text/plain": [
       "True"
      ]
     },
     "execution_count": 31,
     "metadata": {},
     "output_type": "execute_result"
    }
   ],
   "source": [
    "('car' == 'Car') or ('Book' == 'Book')"
   ]
  },
  {
   "cell_type": "markdown",
   "metadata": {},
   "source": [
    "Adding 'Hello' and name together like this is called concatenation and we'll discuss it a little more below.\n",
    "\n",
    "**Practice Time**\n",
    "\n",
    "Open our basics.py again and let's practice some new variables and functions!"
   ]
  },
  {
   "cell_type": "code",
   "execution_count": 32,
   "metadata": {
    "collapsed": true
   },
   "outputs": [],
   "source": [
    "# Write new variables same as the old + 2 (ex. song2, artist2)\n",
    "# a function that compares song1 and song2 to see if they're the same.\n",
    "# do this for each variable and return True or False"
   ]
  },
  {
   "cell_type": "markdown",
   "metadata": {},
   "source": [
    "### Conditionals\n",
    "\n",
    "Conditional statements are logic. They check that something is true or false and perform an operation based on that."
   ]
  },
  {
   "cell_type": "code",
   "execution_count": 33,
   "metadata": {
    "collapsed": false
   },
   "outputs": [
    {
     "name": "stdout",
     "output_type": "stream",
     "text": [
      "Life is perfect.\n"
     ]
    }
   ],
   "source": [
    "answer = 42\n",
    "\n",
    "if answer == 42:\n",
    "    print(\"Life is perfect.\")\n",
    "else:\n",
    "    print(\"Life is mysterious.\")"
   ]
  },
  {
   "cell_type": "markdown",
   "metadata": {},
   "source": [
    "Conditionals can be nested:"
   ]
  },
  {
   "cell_type": "code",
   "execution_count": 34,
   "metadata": {
    "collapsed": false,
    "scrolled": true
   },
   "outputs": [
    {
     "name": "stdout",
     "output_type": "stream",
     "text": [
      "Successful login.\n"
     ]
    }
   ],
   "source": [
    "username = 'george'\n",
    "password = 'secret'\n",
    "\n",
    "if username == 'george':\n",
    "    if password == 'secret':\n",
    "        print('Successful login.')\n",
    "    else:\n",
    "        print('Incorrect password.')\n",
    "else:\n",
    "    print('Incorrect username.')"
   ]
  },
  {
   "cell_type": "markdown",
   "metadata": {},
   "source": [
    "### Validate\n",
    "\n",
    "This simple statement checks for truth."
   ]
  },
  {
   "cell_type": "code",
   "execution_count": 35,
   "metadata": {
    "collapsed": false
   },
   "outputs": [
    {
     "data": {
      "text/plain": [
       "True"
      ]
     },
     "execution_count": 35,
     "metadata": {},
     "output_type": "execute_result"
    }
   ],
   "source": [
    "'i' in 'aeiou'"
   ]
  },
  {
   "cell_type": "code",
   "execution_count": 36,
   "metadata": {
    "collapsed": false
   },
   "outputs": [
    {
     "data": {
      "text/plain": [
       "False"
      ]
     },
     "execution_count": 36,
     "metadata": {},
     "output_type": "execute_result"
    }
   ],
   "source": [
    "'shoe' is 'cat'"
   ]
  },
  {
   "cell_type": "code",
   "execution_count": 37,
   "metadata": {
    "collapsed": false
   },
   "outputs": [
    {
     "data": {
      "text/plain": [
       "True"
      ]
     },
     "execution_count": 37,
     "metadata": {},
     "output_type": "execute_result"
    }
   ],
   "source": [
    "'p' not in 'aeiou'"
   ]
  },
  {
   "cell_type": "code",
   "execution_count": 38,
   "metadata": {
    "collapsed": false
   },
   "outputs": [
    {
     "data": {
      "text/plain": [
       "True"
      ]
     },
     "execution_count": 38,
     "metadata": {},
     "output_type": "execute_result"
    }
   ],
   "source": [
    "'shoe' is not 'cat'"
   ]
  },
  {
   "cell_type": "markdown",
   "metadata": {},
   "source": [
    "But be very careful with these. You may think that using `==` would be the same as using `is` but they do different things. `is` compares object identity, while `==` compares object value."
   ]
  },
  {
   "cell_type": "code",
   "execution_count": 39,
   "metadata": {
    "collapsed": false
   },
   "outputs": [
    {
     "data": {
      "text/plain": [
       "True"
      ]
     },
     "execution_count": 39,
     "metadata": {},
     "output_type": "execute_result"
    }
   ],
   "source": [
    "a = []\n",
    "b = []\n",
    "a == b"
   ]
  },
  {
   "cell_type": "code",
   "execution_count": 40,
   "metadata": {
    "collapsed": false
   },
   "outputs": [
    {
     "data": {
      "text/plain": [
       "False"
      ]
     },
     "execution_count": 40,
     "metadata": {},
     "output_type": "execute_result"
    }
   ],
   "source": [
    "a is b"
   ]
  },
  {
   "cell_type": "markdown",
   "metadata": {},
   "source": [
    "### >>>>>>>**Practice Time**<<<<<<<\n",
    "\n",
    "Let's dig in and put these conditionals and loops to work."
   ]
  },
  {
   "cell_type": "code",
   "execution_count": 41,
   "metadata": {
    "collapsed": true
   },
   "outputs": [],
   "source": [
    "# Create a string named users with three names. ex \"name1 name2 name3\"\n",
    "# Create a string named passwords with three passwords.\n",
    "# Create a function that takes a user and password and checks if they \n",
    "# mach the users and passwords in the variables.\n",
    "# If the name and password match, return a success message. If not\n",
    "# return a fail message.\n",
    "# Write a test for your function. The tests can use the variable data."
   ]
  },
  {
   "cell_type": "markdown",
   "metadata": {},
   "source": [
    "#### Review:\n",
    "* Functions\n",
    "* Variables\n",
    "* Arguments\n",
    "* Integer operations\n",
    "* Comparisons\n",
    "* Conditionals\n",
    "\n",
    "##### Practice:\n",
    "1. Create a new script named music.py\n",
    "2. Create 3 variables each for song, artist, and album.\n",
    "3. Create a variable 'users'.\n",
    "4. Create a variable 'passwords'.\n",
    "4. Create a variable 'is_logged_in' with value False\n",
    "5. Create a variable 'login_attempts' with value 0\n",
    "6. Write a function 'login' that checks username and password. If both are valid, change the value of is_logged_in to True and return a message. If not, login_attempts = 1 and return a message.\n",
    "7. Write a function 'next_track' that takes 3 arguments: song, artist, album. Return a concatenated string that says: \"Now playng song by artist from album.\""
   ]
  }
 ],
 "metadata": {
  "anaconda-cloud": {},
  "kernelspec": {
   "display_name": "Python [default]",
   "language": "python",
   "name": "python3"
  },
  "language_info": {
   "codemirror_mode": {
    "name": "ipython",
    "version": 3
   },
   "file_extension": ".py",
   "mimetype": "text/x-python",
   "name": "python",
   "nbconvert_exporter": "python",
   "pygments_lexer": "ipython3",
   "version": "3.5.2"
  }
 },
 "nbformat": 4,
 "nbformat_minor": 0
}
