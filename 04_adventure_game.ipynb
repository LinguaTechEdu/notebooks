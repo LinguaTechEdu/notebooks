{
 "cells": [
  {
   "cell_type": "markdown",
   "metadata": {},
   "source": [
    "# Adventure Game\n",
    "\n",
    "Time to put our knowledge to use. Here's the code to create an adventure game. You'll want to use the text editor for making your own game. Use comments to take notes in here the notebook."
   ]
  },
  {
   "cell_type": "code",
   "execution_count": 1,
   "metadata": {},
   "outputs": [],
   "source": [
    "def play():\n",
    "    GAME_ON = True\n",
    "    SCORE = 0\n",
    "    \n",
    "    while GAME_ON:\n",
    "        player = input(\"Name: \")\n",
    "        print(\"{} approaches the doorway as the hallway forks in two different directions. Which way?\".format(player))\n",
    "        goto = input(\"(r)ight or (l)eft? \")\n",
    "        print(\"You turn {}. There's nothing but darkness ahead\".format(goto))\n",
    "        \n",
    "        goto = input(\"(b)ack or (c)ontinue? \")\n",
    "        \n",
    "        if goto.startswith('c'):\n",
    "            print(\"You carry on through the darkness ...before a pair of glowing yellow eyes peers from beyond. \"\n",
    "                  \"A breath catches in your throat \"\n",
    "                  \"before you spot a small doorway to your right.\")\n",
    "        elif goto.startswith('b'):\n",
    "            print(\"You try to go back but something compells you to continue forward ...\")\n",
    "        \n",
    "        goto = input(\"(f)orward or (r)ight?\")\n",
    "        \n",
    "        # Can you add an 'if' statement and printe a different message based on the player's input?\n",
    "        # Try it for the next few goto statements. The player should score points on each attack and kill.\n",
    "        print(\"You go through the small doorway and enter a room witha faint glow and a club resting against the wall.\")\n",
    "        \n",
    "        print(\"As soon as your hand grabs the handle of your new weapon, the glowing eyes enters the room and slowly haunts towards you ...\")\n",
    "        \n",
    "        goto = input(\"(a)ttack or (d)efend?\")\n",
    "        print(\"You swing the club at the eyes and it lands with a thud on the creatures head, but he doesn't go \"\n",
    "              \"down just yet.\")\n",
    "        SCORE += 10\n",
    "        \n",
    "        goto = input(\"(a)ttack or (d)efend?\")\n",
    "        print(\"It claws at you with slow moving arms and misses.\")\n",
    "        \n",
    "        goto = input(\"(a)ttack or (d)efend?\")\n",
    "        print(\"With one final swing the creature goes down, eyes glowing no more... and suddenly a bright blue portal opens up before you.\")\n",
    "        print(\"You walk through it and find yourself safely back in town with a sack of loot in your hands.\")\n",
    "        \n",
    "        print(\"Final score: \".format(SCORE))\n",
    "        \n",
    "        GAME_ON = False\n",
    "        "
   ]
  },
  {
   "cell_type": "code",
   "execution_count": null,
   "metadata": {
    "collapsed": true
   },
   "outputs": [],
   "source": []
  }
 ],
 "metadata": {
  "anaconda-cloud": {},
  "kernelspec": {
   "display_name": "Python 3",
   "language": "python",
   "name": "python3"
  },
  "language_info": {
   "codemirror_mode": {
    "name": "ipython",
    "version": 3
   },
   "file_extension": ".py",
   "mimetype": "text/x-python",
   "name": "python",
   "nbconvert_exporter": "python",
   "pygments_lexer": "ipython3",
   "version": "3.6.1"
  }
 },
 "nbformat": 4,
 "nbformat_minor": 1
}
