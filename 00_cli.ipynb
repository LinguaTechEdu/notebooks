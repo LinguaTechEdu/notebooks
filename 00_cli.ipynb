{
 "cells": [
  {
   "cell_type": "markdown",
   "metadata": {},
   "source": [
    "# Welcome to the CLI Crash Course\n",
    "\n",
    "We're going to establish a very quick, very dirty list of commands for the command line interface to make sure you're enough of a hacker after this workshop to use your Python skills.\n",
    "\n",
    "Editor: https://atom.io/\n",
    "Git Bash (Windows): https://www.git-scm.com/downloads\n",
    "\n",
    "Open your cli/git bash (windows)! And type along.\n",
    "\n",
    "- `pwd` will print the current working directory.\n",
    "- `ls` will list all files in the current directory.\n",
    "- `mkdir python101` will create a new folder named 'python101'\n",
    "- `cd python101` will change your current working directory to 'python101'\n",
    "- `touch README.md` will create a new file within current working directory.\n",
    "- `echo 'Welcome to Python 101' >> README.md` will append the message to the 'README.md' file\n",
    "- `cat README.md` will print the contents of the file to the window.\n",
    "- `spyder README.md` should open the Spyder editor and the readme file for editing.\n",
    "- `atom README.md` will open the file in Atom."
   ]
  },
  {
   "cell_type": "markdown",
   "metadata": {},
   "source": [
    "You'll also need to know how to use the python interpreter, which is where you can run python commands. \n",
    "\n",
    "To run a python script: `python my_script.py`\n",
    "\n",
    "To open the interpreter: `python`\n",
    "\n",
    "There's an improved interpreter called ipython. If it's installed on your system you can type this to use it instead: `ipython`"
   ]
  },
  {
   "cell_type": "code",
   "execution_count": null,
   "metadata": {
    "collapsed": true
   },
   "outputs": [],
   "source": []
  }
 ],
 "metadata": {
  "kernelspec": {
   "display_name": "Python [default]",
   "language": "python",
   "name": "python3"
  },
  "language_info": {
   "codemirror_mode": {
    "name": "ipython",
    "version": 3
   },
   "file_extension": ".py",
   "mimetype": "text/x-python",
   "name": "python",
   "nbconvert_exporter": "python",
   "pygments_lexer": "ipython3",
   "version": "3.5.2"
  }
 },
 "nbformat": 4,
 "nbformat_minor": 1
}
