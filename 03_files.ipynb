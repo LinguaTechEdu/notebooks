{
 "cells": [
  {
   "cell_type": "markdown",
   "metadata": {},
   "source": [
    "# Files\n",
    "\n",
    "In this final lesson we're going to learn something crucial: using files with Python and connecting to the internet. After this, you'll have all the basic tools you need to begin writing scripts and modules."
   ]
  },
  {
   "cell_type": "code",
   "execution_count": 7,
   "metadata": {
    "collapsed": true
   },
   "outputs": [],
   "source": [
    "f = open('text/practice.md', 'r')"
   ]
  },
  {
   "cell_type": "code",
   "execution_count": 8,
   "metadata": {
    "collapsed": false
   },
   "outputs": [
    {
     "name": "stdout",
     "output_type": "stream",
     "text": [
      "Hello, there!\n",
      "\n"
     ]
    }
   ],
   "source": [
    "for line in f:\n",
    "    print(line)"
   ]
  },
  {
   "cell_type": "markdown",
   "metadata": {},
   "source": [
    "All we did is open a file and read it line by line. This file only has 1 line, so it's pretty straight forward. By default, opening a file will open it in read mode ('r') so we don't have to specify. `open('practice.txt')` will do the same thing as above.\n",
    "\n",
    "#### Editing Files\n",
    "Let's add a line to our practice file."
   ]
  },
  {
   "cell_type": "code",
   "execution_count": 17,
   "metadata": {
    "collapsed": false
   },
   "outputs": [
    {
     "name": "stdout",
     "output_type": "stream",
     "text": [
      "Writing to files is easy!\n",
      "\n"
     ]
    }
   ],
   "source": [
    "f = open('practice.md', 'a+')\n",
    "f.write(\"Writing to files is easy!\\n\")\n",
    "\n",
    "for line in f:\n",
    "    print(line)\n",
    "f.close()"
   ]
  },
  {
   "cell_type": "markdown",
   "metadata": {},
   "source": [
    "This time we opened the file in append mode ('a+'). This allows us to add things to the file. If we opened it in write mode ('w'), it would simply _overwrite_ all the contents of the file and replace it with the new text.\n",
    "\n",
    "Also note the '\\n' on the end of our string. This tells the file to add a new line afterward. \n",
    "\n",
    "Here's another nifty way to manipulate a file object:"
   ]
  },
  {
   "cell_type": "code",
   "execution_count": 18,
   "metadata": {
    "collapsed": false
   },
   "outputs": [
    {
     "name": "stdout",
     "output_type": "stream",
     "text": [
      "## File Handling with Python\n",
      "\n",
      "Writing to files is easy!Writing to files is easy!Writing to files is easy!\n",
      "\n",
      "Writing to files is easy!\n",
      "\n",
      "Writing to files is easy!\n",
      "\n"
     ]
    }
   ],
   "source": [
    "with open('text/practice.md') as f:\n",
    "    for line in f:\n",
    "        print(line)"
   ]
  },
  {
   "cell_type": "markdown",
   "metadata": {},
   "source": [
    "This method opens and closes the file once the `with` block has run all it's statements.\n",
    "\n",
    "Let's apply our skills to reading some text files and parsing them with some functions."
   ]
  },
  {
   "cell_type": "code",
   "execution_count": null,
   "metadata": {
    "collapsed": true
   },
   "outputs": [],
   "source": [
    "def word_count(document):\n",
    "    \"\"\"\n",
    "    Count the occurrence of every word in the document.\n",
    "    \"\"\"\n",
    "    word_count = {}  # Map each word to its count\n",
    "    input_file = open(filename, 'r')\n",
    "    for line in input_file:\n",
    "    words = line.split()\n",
    "    for word in words:\n",
    "      word = word.lower()\n",
    "      # Special case if we're seeing this word for the first time.\n",
    "      if not word in word_count:\n",
    "        word_count[word] = 1\n",
    "      else:\n",
    "        word_count[word] = word_count[word] + 1\n",
    "    input_file.close()  # Not strictly required, but good form.\n",
    "    return word_count"
   ]
  },
  {
   "cell_type": "markdown",
   "metadata": {},
   "source": [
    "### HTTP Requests"
   ]
  },
  {
   "cell_type": "code",
   "execution_count": 22,
   "metadata": {
    "collapsed": false
   },
   "outputs": [
    {
     "name": "stdout",
     "output_type": "stream",
     "text": [
      "200\n"
     ]
    }
   ],
   "source": [
    "import requests\n",
    "\n",
    "response = requests.get('https://www.google.com/', params={'q': 'oakland'})\n",
    "print(response.status_code)"
   ]
  },
  {
   "cell_type": "markdown",
   "metadata": {},
   "source": [
    "We just sent a request to google.com and got a successful response! Don't worry about the 'requests' module for now. Just know that it's a modules for making requests to the internet and accessing the responses.\n",
    "\n",
    "A successful response will usually send you to a page with your response results. Since this is Google, we don't want to print all that here--it's a lot. For now, it's enough to get this 200 code which let's us know the request worked.\n",
    "\n",
    "...but suppose we wanted to write the response to a file ...an html file ..."
   ]
  },
  {
   "cell_type": "code",
   "execution_count": 24,
   "metadata": {
    "collapsed": false
   },
   "outputs": [
    {
     "name": "stdout",
     "output_type": "stream",
     "text": [
      "200\n"
     ]
    }
   ],
   "source": [
    "def save_response(response):\n",
    "    with open('response.html', 'w') as f:\n",
    "        f.write(response)\n",
    "\n",
    "response = requests.get('https://www.google.com/', params={'q': 'oakland'})\n",
    "print(response.status_code)\n",
    "save_response(response.text)"
   ]
  },
  {
   "cell_type": "markdown",
   "metadata": {},
   "source": [
    "If you open response.html in your browser it should look like the google homepage."
   ]
  },
  {
   "cell_type": "code",
   "execution_count": null,
   "metadata": {
    "collapsed": true
   },
   "outputs": [],
   "source": []
  }
 ],
 "metadata": {
  "anaconda-cloud": {},
  "kernelspec": {
   "display_name": "Python [default]",
   "language": "python",
   "name": "python3"
  },
  "language_info": {
   "codemirror_mode": {
    "name": "ipython",
    "version": 3
   },
   "file_extension": ".py",
   "mimetype": "text/x-python",
   "name": "python",
   "nbconvert_exporter": "python",
   "pygments_lexer": "ipython3",
   "version": "3.5.2"
  }
 },
 "nbformat": 4,
 "nbformat_minor": 1
}
