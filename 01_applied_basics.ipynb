{
 "cells": [
  {
   "cell_type": "markdown",
   "metadata": {},
   "source": [
    "# Python Basics\n",
    "\n",
    "Concepts to Cover: \n",
    "* Variables\n",
    "* Functions\n",
    "* Arguments\n",
    "* Integers\n",
    "* Comparisons\n",
    "* Conditionals\n",
    "\n",
    "These concepts are the basis of every operation you'll perform with Python. You'll literally be using them all the time without even thinking about what they are or what they're called!\n",
    "\n",
    "These concepts together give you what you need to create.\n",
    "\n",
    "Note that iPython prepends each line of the editor with an `In [0]` or `Out [0]`. The former refers to your input and the latter the resulting output. The numbers simply represent the nth input/output."
   ]
  },
  {
   "cell_type": "markdown",
   "metadata": {},
   "source": [
    "### Variables\n",
    "\n",
    "Variables are pretty much the same thing as we learned in Algebra: representatives of values. Let's look at how this might work."
   ]
  },
  {
   "cell_type": "code",
   "execution_count": 1,
   "metadata": {
    "collapsed": false
   },
   "outputs": [
    {
     "data": {
      "text/plain": [
       "4"
      ]
     },
     "execution_count": 1,
     "metadata": {},
     "output_type": "execute_result"
    }
   ],
   "source": [
    "# Let's store an integer, 3, in a variable named x\n",
    "x = 3\n",
    "x + 1"
   ]
  },
  {
   "cell_type": "markdown",
   "metadata": {},
   "source": [
    "### Functions and Methods\n",
    "\n",
    "Creating a function begins by using the `def` keyword followed by the name of the function. It can optionally take what are called arguments. Think of them as variables of information that the function manipulates to execute it's statements."
   ]
  },
  {
   "cell_type": "code",
   "execution_count": 7,
   "metadata": {
    "collapsed": false
   },
   "outputs": [
    {
     "data": {
      "text/plain": [
       "'Hello, James Bond!'"
      ]
     },
     "execution_count": 7,
     "metadata": {},
     "output_type": "execute_result"
    }
   ],
   "source": [
    "def hello():\n",
    "    return 'Hello, World!'\n",
    "\n",
    "hello()"
   ]
  },
  {
   "cell_type": "markdown",
   "metadata": {},
   "source": [
    "#### Function Arguments\n",
    "An argument is an object you can pass to a function, which will then be used to perform operations. You can think of them as variables: an argument is an unknown that we know we want to use. For example, what if we wanted our `hello()` function to greet a person by name? We could create the function to accept an argument, `name`."
   ]
  },
  {
   "cell_type": "code",
   "execution_count": null,
   "metadata": {
    "collapsed": true
   },
   "outputs": [],
   "source": [
    "# 'name' is an argument. It's like a variable that represents any string value.\n",
    "def hello(name):\n",
    "    return 'Hello, ' + name"
   ]
  },
  {
   "cell_type": "markdown",
   "metadata": {},
   "source": [
    "See how we \"add\" those two strings together? This is called concatenation and we'll talk about it more later.\n",
    "\n",
    "Python also has some handy built-in functions that you'll be using a lot.\n",
    "* len(object)\n",
    "* String.format(values)\n",
    "* sorted(object)\n",
    "\n",
    "There's plenty more: https://docs.python.org/3/library/functions.html"
   ]
  },
  {
   "cell_type": "code",
   "execution_count": null,
   "metadata": {
    "collapsed": true
   },
   "outputs": [],
   "source": [
    "len('joe')"
   ]
  },
  {
   "cell_type": "code",
   "execution_count": 15,
   "metadata": {
    "collapsed": false
   },
   "outputs": [
    {
     "data": {
      "text/plain": [
       "'Hello Joe!'"
      ]
     },
     "execution_count": 15,
     "metadata": {},
     "output_type": "execute_result"
    }
   ],
   "source": [
    "'Hello {0}!'.format('Joe')"
   ]
  },
  {
   "cell_type": "code",
   "execution_count": 16,
   "metadata": {
    "collapsed": false
   },
   "outputs": [
    {
     "data": {
      "text/plain": [
       "['a', 'a', 'b', 'e', 'h', 'l', 'p', 't']"
      ]
     },
     "execution_count": 16,
     "metadata": {},
     "output_type": "execute_result"
    }
   ],
   "source": [
    "sorted('alphabet')"
   ]
  },
  {
   "cell_type": "markdown",
   "metadata": {},
   "source": [
    "### Numbers\n",
    "\n",
    "Generally, the kind of numbers you'll work with most commonly are integers. It's a speciic type of object called int(). You can perform all kinds of operations with integers."
   ]
  },
  {
   "cell_type": "code",
   "execution_count": 2,
   "metadata": {
    "collapsed": false
   },
   "outputs": [
    {
     "data": {
      "text/plain": [
       "1"
      ]
     },
     "execution_count": 2,
     "metadata": {},
     "output_type": "execute_result"
    }
   ],
   "source": [
    "a = \"1\" # A string\n",
    "int(a) # Converts string to integer"
   ]
  },
  {
   "cell_type": "code",
   "execution_count": 3,
   "metadata": {
    "collapsed": false
   },
   "outputs": [
    {
     "data": {
      "text/plain": [
       "1"
      ]
     },
     "execution_count": 3,
     "metadata": {},
     "output_type": "execute_result"
    }
   ],
   "source": [
    "1+1\n",
    "2*3\n",
    "2**2\n",
    "4/2\n",
    "5-4"
   ]
  },
  {
   "cell_type": "markdown",
   "metadata": {},
   "source": [
    "### Comparisons\n",
    "\n",
    "One final small thing you'll find handy everyday: comparisons. They help you compare values between two or more objects."
   ]
  },
  {
   "cell_type": "code",
   "execution_count": 4,
   "metadata": {
    "collapsed": false
   },
   "outputs": [
    {
     "data": {
      "text/plain": [
       "False"
      ]
     },
     "execution_count": 4,
     "metadata": {},
     "output_type": "execute_result"
    }
   ],
   "source": [
    "1 == 2"
   ]
  },
  {
   "cell_type": "code",
   "execution_count": 5,
   "metadata": {
    "collapsed": false
   },
   "outputs": [
    {
     "data": {
      "text/plain": [
       "True"
      ]
     },
     "execution_count": 5,
     "metadata": {},
     "output_type": "execute_result"
    }
   ],
   "source": [
    "'Book' == 'Book'"
   ]
  },
  {
   "cell_type": "code",
   "execution_count": 6,
   "metadata": {
    "collapsed": false
   },
   "outputs": [
    {
     "data": {
      "text/plain": [
       "False"
      ]
     },
     "execution_count": 6,
     "metadata": {},
     "output_type": "execute_result"
    }
   ],
   "source": [
    "'car' == 'Car'"
   ]
  },
  {
   "cell_type": "code",
   "execution_count": 8,
   "metadata": {
    "collapsed": false
   },
   "outputs": [
    {
     "data": {
      "text/plain": [
       "True"
      ]
     },
     "execution_count": 8,
     "metadata": {},
     "output_type": "execute_result"
    }
   ],
   "source": [
    "('car' == 'Car') or ('Book' == 'Book')"
   ]
  },
  {
   "cell_type": "markdown",
   "metadata": {},
   "source": [
    "Adding 'Hello' and name together like this is called concatenation and we'll discuss it a little more below.\n",
    "\n",
    "### Conditionals\n",
    "\n",
    "Conditional statements are logic. They check that something is true or false and perform an operation based on that."
   ]
  },
  {
   "cell_type": "code",
   "execution_count": 13,
   "metadata": {
    "collapsed": false
   },
   "outputs": [
    {
     "name": "stdout",
     "output_type": "stream",
     "text": [
      "Life is perfect.\n"
     ]
    }
   ],
   "source": [
    "answer = 42\n",
    "\n",
    "if answer == 42:\n",
    "    print(\"Life is perfect.\")\n",
    "else:\n",
    "    print(\"Life is mysterious.\")"
   ]
  },
  {
   "cell_type": "markdown",
   "metadata": {},
   "source": [
    "Conditionals can be nested:"
   ]
  },
  {
   "cell_type": "code",
   "execution_count": 14,
   "metadata": {
    "collapsed": false,
    "scrolled": true
   },
   "outputs": [
    {
     "name": "stdout",
     "output_type": "stream",
     "text": [
      "Successful login.\n"
     ]
    }
   ],
   "source": [
    "username = 'george'\n",
    "password = 'secret'\n",
    "\n",
    "if username == 'george':\n",
    "    if password == 'secret':\n",
    "        print('Successful login.')\n",
    "    else:\n",
    "        print('Incorrect password.')\n",
    "else:\n",
    "    print('Incorrect username.')"
   ]
  },
  {
   "cell_type": "markdown",
   "metadata": {},
   "source": [
    "#### Review:\n",
    "* Functions\n",
    "* Variables\n",
    "* Arguments\n",
    "* Integer operations\n",
    "* Comparisons\n",
    "* Conditionals\n",
    "\n",
    "##### Practice:\n",
    "Create a function that accepts an argument (or two ...) and returns an expression."
   ]
  },
  {
   "cell_type": "code",
   "execution_count": 1,
   "metadata": {
    "collapsed": false
   },
   "outputs": [
    {
     "data": {
      "text/plain": [
       "('b', 'd')"
      ]
     },
     "execution_count": 1,
     "metadata": {},
     "output_type": "execute_result"
    }
   ],
   "source": [
    "def string_ends(s):\n",
    "    \"\"\"\n",
    "    Write a function that takes a string 's' and returns the first\n",
    "    and last letter of the string.\n",
    "    \"\"\"\n",
    "    first = s[] # Fill in the blanks\n",
    "    last = s[]\n",
    "    return first, last\n",
    "\n",
    "string_ends('bad')"
   ]
  },
  {
   "cell_type": "code",
   "execution_count": null,
   "metadata": {
    "collapsed": true
   },
   "outputs": [],
   "source": [
    "def low_cap(s):\n",
    "    \"\"\"\n",
    "    Write a function that returns a string in all caps except the first letter\n",
    "    which should be lowercase.\n",
    "    \"\"\"\n",
    "    last = s[1:]. # Add the appropriate method\n",
    "    first = s[0]. # Add the approperiate method\n",
    "    return first + last"
   ]
  }
 ],
 "metadata": {
  "anaconda-cloud": {},
  "kernelspec": {
   "display_name": "Python [default]",
   "language": "python",
   "name": "python3"
  },
  "language_info": {
   "codemirror_mode": {
    "name": "ipython",
    "version": 3
   },
   "file_extension": ".py",
   "mimetype": "text/x-python",
   "name": "python",
   "nbconvert_exporter": "python",
   "pygments_lexer": "ipython3",
   "version": "3.5.2"
  }
 },
 "nbformat": 4,
 "nbformat_minor": 0
}
