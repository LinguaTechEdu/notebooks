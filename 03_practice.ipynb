{
 "cells": [
  {
   "cell_type": "markdown",
   "metadata": {},
   "source": [
    "# Your First Script\n",
    "\n",
    "Alright. You know what data types are. You've used data structues. You've created your own functions, solved code challenges and manipulated files. This practice should help you bring all those things together.\n",
    "\n",
    "### Music Library\n",
    "\n",
    "Let's create some functions that will help us explore a music collection. \n",
    "\n",
    "We'll parse a CSV file (comma separated values) into a dictonary object. The file contains the following track info: artist_name, album_name, track_name, track_duration (in milliseconds). Our database should be a list of dictionaries, each of which contains the keys above.\n",
    "```\n",
    "[  {\n",
    "    'artist_name': 'name',\n",
    "    'track_name': 'name',\n",
    "    'album_name': 'name',\n",
    "    'track_duration': 100\n",
    "    },\n",
    "    { \n",
    "    ...\n",
    "    },\n",
    "]\n",
    "```\n",
    "\n",
    "First break down the work into it's parts. Use comments to state the goal at each step of the way. Here's a guide:\n",
    "1. Get the CSV.\n",
    "2. Break it down into each line of the document.\n",
    "3. Each line has words separated by a comma.\n",
    "4. Each line represents 1 track with (in order): name, artist, album, duration\n",
    "5. Create a list.\n",
    "6. Create a dictionary using each line of the track and its data.\n",
    "7. Add the dictionary to the list.\n",
    "8. Do this for every line of the file.\n",
    "9. Return the list.\n",
    "10. Create functions that: list_artists, list_tracks, find_longest_track, sort_playlist (by artist)"
   ]
  }
 ],
 "metadata": {
  "anaconda-cloud": {},
  "kernelspec": {
   "display_name": "Python [conda root]",
   "language": "python",
   "name": "conda-root-py"
  },
  "language_info": {
   "codemirror_mode": {
    "name": "ipython",
    "version": 3
   },
   "file_extension": ".py",
   "mimetype": "text/x-python",
   "name": "python",
   "nbconvert_exporter": "python",
   "pygments_lexer": "ipython3",
   "version": "3.5.2"
  }
 },
 "nbformat": 4,
 "nbformat_minor": 1
}
