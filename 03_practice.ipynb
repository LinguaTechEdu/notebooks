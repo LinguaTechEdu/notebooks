{
 "cells": [
  {
   "cell_type": "markdown",
   "metadata": {},
   "source": [
    "# Address Book Script\n",
    "\n",
    "Alright. You know what data types are. You've used data structues. You've created your own functions, solved code challenges and manipulated files. This practice should help you bring all those things together.\n",
    "\n",
    "### Address Book\n",
    "\n",
    "Let's create some functions that will help us explore our contacts collection. \n",
    "\n",
    "We've collected data from our app users. We want to take that information and create an address book. Following the formula, we need to:\n",
    "\n",
    "1. Get the data\n",
    "    - What data type is it?\n",
    "2. Organize the data\n",
    "    - How do we store it so it's easy to access?\n",
    "3. Build the script to return the data\n",
    "    - How do we get back the data we ask for?\n",
    "\n",
    "Once we do this, we'll be able to create an address book on our app.\n",
    "\n",
    "```\n",
    "[  {\n",
    "    'username': 'name',\n",
    "    'email': 'name@email.com',\n",
    "    'address': '1 Main Street \\n Cedar Rapids IA',\n",
    "    'birthday': '10-10-1910'\n",
    "    },\n",
    "    { \n",
    "    ...\n",
    "    },\n",
    "]\n",
    "```\n",
    "We'll start with pseudocode. It's  a way of writing down the steps, in plain english, that we might use to execute the script.\n",
    "\n",
    "First break down the work into it's parts. Use comments to state the goal at each step of the way. Here's a guide:\n",
    "\n",
    "1. Get the data file. It's a JSON in this case, a very popular response for APIs\n",
    "2. Break it down into columns of data.\n",
    "3. Each entry represents 1 user.\n",
    "4. Create a list.\n",
    "5. Return the list.\n",
    "6. Create these functions: show_users and find_user"
   ]
  },
  {
   "cell_type": "code",
   "execution_count": 4,
   "metadata": {},
   "outputs": [
    {
     "data": {
      "text/plain": [
       "{'address': '9624 Dean Grove\\nCookstad, NC 77454-4583',\n",
       " 'birthdate': '2008-05-22',\n",
       " 'mail': 'sheryl81@hotmail.com',\n",
       " 'name': 'Jordan Peterson',\n",
       " 'sex': 'F',\n",
       " 'username': 'wross'}"
      ]
     },
     "execution_count": 4,
     "metadata": {},
     "output_type": "execute_result"
    }
   ],
   "source": [
    "import json\n",
    "\n",
    "\n",
    "def show_users():\n",
    "    \"\"\"Use pseudocode to establish the steps needed to display a list of contacts.\"\"\"\n",
    "    # start here!\n",
    "\n",
    "\n",
    "def find_user(name):\n",
    "    \"\"\"Use pseudocode to establish the steps needed to find the user.\"\"\"\n",
    "    # start here!\n",
    "\n",
    "\n",
    "def user_city(user):\n",
    "    \"\"\"CHALLENGE: Parse the address into two parts: the house and the town\"\"\""
   ]
  },
  {
   "cell_type": "code",
   "execution_count": 5,
   "metadata": {},
   "outputs": [
    {
     "name": "stdout",
     "output_type": "stream",
     "text": [
      "Testing show_users() ...\n",
      "==> ✔ Pass - input: 50, expected output: 50\n",
      "==> ✔ Pass - input: {'username': 'wross', 'name': 'Jordan Peterson', 'sex': 'F', 'address': '9624 Dean Grove\\nCookstad, NC 77454-4583', 'mail': 'sheryl81@hotmail.com', 'birthdate': '2008-05-22'}, expected output: {'address': '9624 Dean Grove\\nCookstad, NC 77454-4583', 'birthdate': '2008-05-22', 'mail': 'sheryl81@hotmail.com', 'name': 'Jordan Peterson', 'sex': 'F', 'username': 'wross'}\n",
      "\n",
      "\n",
      "\n"
     ]
    }
   ],
   "source": [
    "# Testing Tools\n",
    "# The functions below help us test the functions we created above.\n",
    "def test(inpt, output):\n",
    "    \"\"\"\n",
    "    This is a simple function to test that the results of our function\n",
    "    match what we expect. Get used to writing these! As you learn, \n",
    "    you'll find more and better tools to help you test your code.\n",
    "    \n",
    "    Fancy unicode check marks: https://en.wikipedia.org/wiki/Check_mark\n",
    "    \"\"\"\n",
    "    if inpt == output:\n",
    "        result = '==> \\u2714 Pass'\n",
    "    else:\n",
    "        result = '==> \\u2718 Fail'\n",
    "    print(\"{0} - input: {1}, expected output: {2}\".format(result, inpt, output))\n",
    "    \n",
    "    \n",
    "def run_tests():\n",
    "    \"\"\"Test that our functions work the way we think they do.\"\"\"\n",
    "    find_user_results = {\n",
    "         'address': '9624 Dean Grove\\nCookstad, NC 77454-4583',\n",
    "         'birthdate': '2008-05-22',\n",
    "         'mail': 'sheryl81@hotmail.com',\n",
    "         'name': 'Jordan Peterson',\n",
    "         'sex': 'F',\n",
    "         'username': 'wross'}\n",
    "    print(\"Testing Address Book ...\")\n",
    "    test(len(show_users()), 50)\n",
    "    test(find_user('Jordan'), find_user_results)\n",
    "    print(\"\\n\\n\")\n",
    "      \n",
    "    \n",
    "run_tests()"
   ]
  },
  {
   "cell_type": "code",
   "execution_count": null,
   "metadata": {
    "collapsed": true
   },
   "outputs": [],
   "source": []
  }
 ],
 "metadata": {
  "anaconda-cloud": {},
  "kernelspec": {
   "display_name": "Python 3",
   "language": "python",
   "name": "python3"
  },
  "language_info": {
   "codemirror_mode": {
    "name": "ipython",
    "version": 3
   },
   "file_extension": ".py",
   "mimetype": "text/x-python",
   "name": "python",
   "nbconvert_exporter": "python",
   "pygments_lexer": "ipython3",
   "version": "3.6.1"
  }
 },
 "nbformat": 4,
 "nbformat_minor": 1
}
