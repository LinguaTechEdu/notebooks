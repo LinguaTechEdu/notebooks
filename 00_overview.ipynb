{
 "cells": [
  {
   "cell_type": "markdown",
   "metadata": {
    "nbpresent": {
     "id": "93a09758-46b5-4d32-afe0-771487c85b6c"
    }
   },
   "source": [
    "#  Intro to Python!\n",
    "\n",
    "There's a ton of ground to cover but here's what you'll have in this Notebook:\n",
    "\n",
    "* An introduction to data types\n",
    "* An introduction to data structures\n",
    "* An introduction to scripting\n",
    "\n",
    "The best way to get a strong introduction to Python is to write Python for the next 3 hours.\n",
    "\n",
    "Please make sure you have the following installed:\n",
    "* Anaconda\n",
    "\n",
    "Mac and Windows: Anaconda will install all that you need and you can access it by opening the Anaconda Navigator.\n",
    "\n",
    "### Ubuntu Set-up\n",
    "This is an auto-installer so it should be a breeze to get set up. It includes Python, conda (package manager) and Spyder (IDE). Once these are all installed:\n",
    "\n",
    "1. Open two terminal sessions.\n",
    "2. Start virtual env in terminals: `source ~/anaconda3/bin/activate`\n",
    "3. Open your notebook: `jupyter notebook` in the second terminal\n",
    "\n",
    "Spyder IDE:\n",
    "\n",
    "1. Open your IDE: `spyder` in the first terminal\n",
    "2. Spyder: Create a new file and save it to folder 'python_intro'. You'll work out of this folder for the rest of the workshop.\n",
    "3. Type: `touch practice.py`\n",
    "\n",
    "You're now ready for Python!"
   ]
  },
  {
   "cell_type": "markdown",
   "metadata": {},
   "source": [
    "## Python Overview\n",
    "\n",
    "Python is a scripting language. It's most popular application today is in the world of data science. However, Python can be used for many programming tasks.\n",
    "\n",
    "* Web development\n",
    "* Machine programming (Maker, Arduino)\n",
    "* Data science\n",
    "* Software development\n",
    "\n",
    "In the world of python, everything is an object. In fact thats true of most languages. The idea is that objects have qualities and kinds. They can be created, manipulated or destroyed. It's a handy way to simulate concepts in order to write programs."
   ]
  },
  {
   "cell_type": "markdown",
   "metadata": {
    "nbpresent": {
     "id": "52f0f53b-b6d8-4115-82e8-f8c58529ea57"
    }
   },
   "source": [
    "## Quick CLI List\n",
    "\n",
    "Keep a list of these commands handy on the board in front of class for easy reference.\n",
    "\n",
    "We're going to establish a very quick, very dirty list of commands for the command line interface to make sure you're enough of a hacker after this workshop to use your Python skills.\n",
    "\n",
    "- Editor: https://atom.io/\n",
    "- Git Bash (Windows): https://www.git-scm.com/downloads\n",
    "\n",
    "Window CLI equivalents: https://www.lemoda.net/windows/windows2unix/windows2unix.html\n",
    "\n",
    "Open your cli/git bash (windows)! And type along.\n",
    "\n",
    "- `pwd` will print the current working directory.\n",
    "- `ls` will list all files in the current directory. (windows `dir`)\n",
    "- `mkdir python101` will create a new folder named 'python101'\n",
    "- `cd python101` will change your current working directory to 'python101'\n",
    "- `touch README.md` will create a new file within current working directory. (windows `echo $null >> filename`)\n",
    "- `echo \"Welcome to Python 101\"` will echo the message\n",
    "- `cat README.md` will print the contents of the file to the window.\n",
    "- `spyder README.md` should open the Spyder editor and the readme file for editing.\n",
    "- `atom README.md` will open the file in Atom."
   ]
  },
  {
   "cell_type": "markdown",
   "metadata": {
    "nbpresent": {
     "id": "d3fc1f3e-d59c-4fc5-ac80-894ea2b19168"
    }
   },
   "source": [
    "#### Running Your Scripts\n",
    "You'll also need to know how to use the python interpreter, which is where you can run python commands. \n",
    "\n",
    "To run a python script: `python my_script.py`\n",
    "\n",
    "To open the interpreter: `python`\n",
    "\n",
    "There's an improved interpreter called ipython. If it's installed on your system you can type this to use it instead: `ipython`"
   ]
  }
 ],
 "metadata": {
  "anaconda-cloud": {},
  "kernelspec": {
   "display_name": "Python 3",
   "language": "python",
   "name": "python3"
  },
  "language_info": {
   "codemirror_mode": {
    "name": "ipython",
    "version": 3
   },
   "file_extension": ".py",
   "mimetype": "text/x-python",
   "name": "python",
   "nbconvert_exporter": "python",
   "pygments_lexer": "ipython3",
   "version": "3.6.1"
  },
  "nbpresent": {
   "slides": {
    "1a76995b-3faa-4bbc-8ffd-af20b9a54c3d": {
     "id": "1a76995b-3faa-4bbc-8ffd-af20b9a54c3d",
     "prev": "7e9b9b2c-ea09-4db7-993f-09c6af449dee",
     "regions": {
      "5e319e6a-dbe2-46e1-a45a-7c14c60162c1": {
       "attrs": {
        "height": 0.8,
        "width": 0.8,
        "x": 0.1,
        "y": 0.1
       },
       "content": {
        "cell": "52f0f53b-b6d8-4115-82e8-f8c58529ea57",
        "part": "whole"
       },
       "id": "5e319e6a-dbe2-46e1-a45a-7c14c60162c1"
      }
     }
    },
    "2c3159e7-05b6-4e8c-80a2-e38e5be3af31": {
     "id": "2c3159e7-05b6-4e8c-80a2-e38e5be3af31",
     "prev": "1a76995b-3faa-4bbc-8ffd-af20b9a54c3d",
     "regions": {
      "e4f6714c-2286-4010-8691-530de149e232": {
       "attrs": {
        "height": 0.8,
        "width": 0.8,
        "x": 0.1,
        "y": 0.1
       },
       "content": {
        "cell": "d3fc1f3e-d59c-4fc5-ac80-894ea2b19168",
        "part": "whole"
       },
       "id": "e4f6714c-2286-4010-8691-530de149e232"
      }
     }
    },
    "7e9b9b2c-ea09-4db7-993f-09c6af449dee": {
     "id": "7e9b9b2c-ea09-4db7-993f-09c6af449dee",
     "prev": null,
     "regions": {
      "93c15a7a-3dea-4515-ab37-d68c82402bc5": {
       "attrs": {
        "height": 0.8,
        "width": 0.8,
        "x": 0.1,
        "y": 0.1
       },
       "content": {
        "cell": "93a09758-46b5-4d32-afe0-771487c85b6c",
        "part": "whole"
       },
       "id": "93c15a7a-3dea-4515-ab37-d68c82402bc5"
      }
     }
    },
    "8854f8c5-c254-4af0-8809-f8a034da9974": {
     "id": "8854f8c5-c254-4af0-8809-f8a034da9974",
     "prev": "2c3159e7-05b6-4e8c-80a2-e38e5be3af31",
     "regions": {
      "caffb14a-9eab-496d-88ef-304bac7aa2b2": {
       "attrs": {
        "height": 0.8,
        "width": 0.8,
        "x": 0.1,
        "y": 0.1
       },
       "content": {
        "cell": "edc4994f-b459-4d8b-9b08-e6d1aba90dda",
        "part": "whole"
       },
       "id": "caffb14a-9eab-496d-88ef-304bac7aa2b2"
      }
     }
    }
   },
   "themes": {}
  }
 },
 "nbformat": 4,
 "nbformat_minor": 1
}
