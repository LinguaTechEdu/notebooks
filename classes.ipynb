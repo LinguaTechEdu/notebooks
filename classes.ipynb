{
 "cells": [
  {
   "cell_type": "markdown",
   "metadata": {},
   "source": [
    "# Creating New Objects\n",
    "\n",
    "In an earlier lesson, we talked about data types and objects. Remember that methods are functions that define the behavior of objects. Classes are an integral part of the concept of object oriented programming, as they allow programs to be designed by a collection self-sufficient parts.\n",
    "\n",
    "Let's create our own object with it's own behaviors."
   ]
  },
  {
   "cell_type": "code",
   "execution_count": 2,
   "metadata": {
    "collapsed": false
   },
   "outputs": [
    {
     "data": {
      "text/plain": [
       "'chirp'"
      ]
     },
     "execution_count": 2,
     "metadata": {},
     "output_type": "execute_result"
    }
   ],
   "source": [
    "class Animal:\n",
    "    def sound(self):\n",
    "        return 'chirp'\n",
    "\n",
    "animal = Animal()\n",
    "animal.sound()"
   ]
  },
  {
   "cell_type": "markdown",
   "metadata": {},
   "source": [
    "Here we've created an Animal object and defined one method, `sound`. Simple, right?\n",
    "\n",
    "We've been using classes all this time. `Hello, World!` is an instance of the string class. In `contacts = dict()`, contacts is an instance of the dict class.\n",
    "\n",
    "Classes allow us to create objects that can be created numerous times. If it weren't for classes, everytime we wanted to make a string we'd have to define a string object over and over again. Classes are what saves us all that time and effort. Think of it like the printing press. Before the press scribes and writers had to painstakingly copy every book, letter, edict and poem to pass onto generations. With the press, one printer could set all the text on a machine and simple print off as many instances of today's news as she wanted! Classes afford us a similar thing."
   ]
  },
  {
   "cell_type": "code",
   "execution_count": null,
   "metadata": {
    "collapsed": true
   },
   "outputs": [],
   "source": []
  }
 ],
 "metadata": {
  "kernelspec": {
   "display_name": "Python [default]",
   "language": "python",
   "name": "python3"
  },
  "language_info": {
   "codemirror_mode": {
    "name": "ipython",
    "version": 3
   },
   "file_extension": ".py",
   "mimetype": "text/x-python",
   "name": "python",
   "nbconvert_exporter": "python",
   "pygments_lexer": "ipython3",
   "version": "3.5.2"
  }
 },
 "nbformat": 4,
 "nbformat_minor": 1
}
