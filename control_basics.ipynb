{
 "cells": [
  {
   "cell_type": "markdown",
   "metadata": {},
   "source": [
    "\n",
    "## Control Structures\n",
    "\n",
    "So far you know how to create functions, use variables and make data objects. That's plenty to help you start writing some very basic scripts.\n",
    "\n",
    "But what you really need right now is more tools to manipulate those objects. Control structures allow you to create logic and algorithms. For example, operations that can search through a large amount of data and update it all in one function.\n",
    "\n",
    "Concepts:\n",
    "* Incrementation and Concatenation\n",
    "* Conditionals\n",
    "* Loops\n",
    "* Iteration\n",
    "\n",
    "Now we're just going to do a broad sweep of how these things work. Each one will get their own chapter later so be sure to note any questions and ask them at the end. It'll help tie the lesson together for you.\n",
    "\n",
    "**For Python 2/3**\n",
    "This lesson assumes you're using Python 3. If you're using Python 2, please make it known when you encounter an error when using some of the functions/methods below! \n",
    "\n",
    "#### Incrementing Numbers and Concatenating Strings\n",
    "This is just a fancy way of adding numbers or concatenating strings."
   ]
  },
  {
   "cell_type": "code",
   "execution_count": 2,
   "metadata": {
    "collapsed": false
   },
   "outputs": [
    {
     "data": {
      "text/plain": [
       "1"
      ]
     },
     "execution_count": 2,
     "metadata": {},
     "output_type": "execute_result"
    }
   ],
   "source": [
    "counter = 0\n",
    "counter += 1\n",
    "counter"
   ]
  },
  {
   "cell_type": "code",
   "execution_count": 3,
   "metadata": {
    "collapsed": false
   },
   "outputs": [
    {
     "data": {
      "text/plain": [
       "'Hello, World!'"
      ]
     },
     "execution_count": 3,
     "metadata": {},
     "output_type": "execute_result"
    }
   ],
   "source": [
    "greeting = \"Hello, \"\n",
    "greeting += \"World!\"\n",
    "greeting"
   ]
  },
  {
   "cell_type": "markdown",
   "metadata": {},
   "source": [
    "#### Conditionals\n",
    "\n",
    "Conditional statements are logic. They check that something is true or false and perform an operation based on that."
   ]
  },
  {
   "cell_type": "code",
   "execution_count": 4,
   "metadata": {
    "collapsed": false
   },
   "outputs": [
    {
     "data": {
      "text/plain": [
       "'Switch is ON.'"
      ]
     },
     "execution_count": 4,
     "metadata": {},
     "output_type": "execute_result"
    }
   ],
   "source": [
    "switch = True\n",
    "\n",
    "def update_status(obj):\n",
    "    if obj:\n",
    "        return \"Switch is ON.\"\n",
    "    else:\n",
    "        return \"Switch is OFF.\"\n",
    "    \n",
    "update_status(switch)"
   ]
  },
  {
   "cell_type": "code",
   "execution_count": 5,
   "metadata": {
    "collapsed": false
   },
   "outputs": [
    {
     "data": {
      "text/plain": [
       "'Switch is OFF.'"
      ]
     },
     "execution_count": 5,
     "metadata": {},
     "output_type": "execute_result"
    }
   ],
   "source": [
    "switch = False\n",
    "update_status(switch)"
   ]
  },
  {
   "cell_type": "code",
   "execution_count": 6,
   "metadata": {
    "collapsed": false
   },
   "outputs": [
    {
     "data": {
      "text/plain": [
       "'Login successful.'"
      ]
     },
     "execution_count": 6,
     "metadata": {},
     "output_type": "execute_result"
    }
   ],
   "source": [
    "users = {\n",
    "    'mario': {'password': 'princess'},\n",
    "    'luigi': {'password': 'peach'}\n",
    "}\n",
    "\n",
    "def authenticate(username, password):\n",
    "    user = users.get(username)\n",
    "    if user and user.get('password') == password:\n",
    "        return \"Login successful.\"\n",
    "    elif not user:\n",
    "        return \"Invalid username.\"\n",
    "    elif user.get('password') != password:\n",
    "        return \"Invalid password.\"\n",
    "\n",
    "authenticate('mario', 'princess')"
   ]
  },
  {
   "cell_type": "code",
   "execution_count": 7,
   "metadata": {
    "collapsed": false
   },
   "outputs": [
    {
     "data": {
      "text/plain": [
       "'Invalid username.'"
      ]
     },
     "execution_count": 7,
     "metadata": {},
     "output_type": "execute_result"
    }
   ],
   "source": [
    "authenticate('bowser', 'cookies')"
   ]
  },
  {
   "cell_type": "code",
   "execution_count": 8,
   "metadata": {
    "collapsed": false
   },
   "outputs": [
    {
     "data": {
      "text/plain": [
       "'Invalid password.'"
      ]
     },
     "execution_count": 8,
     "metadata": {},
     "output_type": "execute_result"
    }
   ],
   "source": [
    "authenticate('luigi', 'cookies')"
   ]
  },
  {
   "cell_type": "markdown",
   "metadata": {},
   "source": [
    "#### Loops\n",
    "Looping is an operation for stepping through a collection of items. So you can iterate over strings, lists, dictionaries and tuples.\n",
    "\n",
    "`for` loops are one way to do it."
   ]
  },
  {
   "cell_type": "code",
   "execution_count": 9,
   "metadata": {
    "collapsed": false,
    "scrolled": true
   },
   "outputs": [
    {
     "name": "stdout",
     "output_type": "stream",
     "text": [
      "milk\n",
      "eggs\n",
      "bread\n"
     ]
    }
   ],
   "source": [
    "groceries = ['milk', 'eggs', 'bread']\n",
    "# 'item' is arbitrary; you can name this variable what you want\n",
    "# it's value will be each sequential item in the grocerie list,\n",
    "# changing after each round through the loop\n",
    "for item in groceries:\n",
    "    print(item)"
   ]
  },
  {
   "cell_type": "markdown",
   "metadata": {},
   "source": [
    "What about dictionaries? "
   ]
  },
  {
   "cell_type": "code",
   "execution_count": 10,
   "metadata": {
    "collapsed": false
   },
   "outputs": [
    {
     "name": "stdout",
     "output_type": "stream",
     "text": [
      "name James Bond\n",
      "agent_id 007\n",
      "location London\n"
     ]
    }
   ],
   "source": [
    "contact = {\n",
    "    'name': 'James Bond',\n",
    "    'agent_id': '007',\n",
    "    'location': 'London'\n",
    "}\n",
    "\n",
    "for key in contact:\n",
    "    print(key, contact[key])"
   ]
  },
  {
   "cell_type": "code",
   "execution_count": 11,
   "metadata": {
    "collapsed": false
   },
   "outputs": [
    {
     "name": "stdout",
     "output_type": "stream",
     "text": [
      "name\n",
      "agent_id\n",
      "location\n"
     ]
    }
   ],
   "source": [
    "for key in contact.keys():\n",
    "    print(key)"
   ]
  },
  {
   "cell_type": "code",
   "execution_count": 12,
   "metadata": {
    "collapsed": false
   },
   "outputs": [
    {
     "name": "stdout",
     "output_type": "stream",
     "text": [
      "James Bond\n",
      "007\n",
      "London\n"
     ]
    }
   ],
   "source": [
    "for val in contact.values():\n",
    "    print(val)"
   ]
  },
  {
   "cell_type": "markdown",
   "metadata": {},
   "source": [
    "So we see that iterating over dictionaries like this results in the operation iterating over the keys without printing the values. Dictionaries have their own special methoods for iteration."
   ]
  },
  {
   "cell_type": "code",
   "execution_count": 13,
   "metadata": {
    "collapsed": false
   },
   "outputs": [
    {
     "name": "stdout",
     "output_type": "stream",
     "text": [
      "name James Bond\n",
      "agent_id 007\n",
      "location London\n"
     ]
    }
   ],
   "source": [
    "for item, val in contact.items():\n",
    "    print(item, val)"
   ]
  },
  {
   "cell_type": "markdown",
   "metadata": {},
   "source": [
    "`items()` breaks the dictionary into a list of tuples. This is like:\n",
    "`[('agent_id', '007'), ('location', 'London'), ('name', 'James Bond')]`\n",
    "\n",
    "Suppose we wanted to turn our grocery list into a dictionary, where each grocery has a price associated. How can we do this using iteration?\n",
    "\n",
    "There are also some built-in Python functions that can help you iterate \"automatically\" without writing your own `for` loop using the `zip()` function. `zip()` Takes two lists and zips them together into pairs, taking the items sequentially from each list and pairing them up."
   ]
  },
  {
   "cell_type": "code",
   "execution_count": 14,
   "metadata": {
    "collapsed": false
   },
   "outputs": [
    {
     "data": {
      "text/plain": [
       "{'bread': '0.60', 'eggs': '2.25', 'milk': '1.50'}"
      ]
     },
     "execution_count": 14,
     "metadata": {},
     "output_type": "execute_result"
    }
   ],
   "source": [
    "prices = ['1.50', '2.25', '0.60']\n",
    "\n",
    "dict(zip(groceries, prices))"
   ]
  },
  {
   "cell_type": "code",
   "execution_count": 15,
   "metadata": {
    "collapsed": true
   },
   "outputs": [],
   "source": [
    "# Alternative way to do to the same:\n",
    "grocery_list = {}\n",
    "\n",
    "for item, price in zip(groceries, prices):\n",
    "    grocery_list[item] = price"
   ]
  },
  {
   "cell_type": "markdown",
   "metadata": {},
   "source": [
    "What `zip` does is return a list of tuples with each item paried up:\n",
    "`[('bread', '0.60'), ('eggs', '2.25'), ('milk', '1.50')]`\n",
    "\n",
    "We then turned the `zip` object into a dictionary. Yes, you can also create dictionaries by passing a list of tuples to the `dict()` object! \n",
    "\n",
    "But this also means that you can iterate over the tuples like so:"
   ]
  },
  {
   "cell_type": "code",
   "execution_count": 16,
   "metadata": {
    "collapsed": false
   },
   "outputs": [
    {
     "name": "stdout",
     "output_type": "stream",
     "text": [
      "milk 1.50\n",
      "eggs 2.25\n",
      "bread 0.60\n"
     ]
    }
   ],
   "source": [
    "for item, price in zip(groceries, prices):\n",
    "    print(item, price)"
   ]
  },
  {
   "cell_type": "markdown",
   "metadata": {},
   "source": [
    "#### Iterators\n",
    "\n",
    "The following information is to provide you with some insight into how `for` loops work. It's not necessary to learn or use these just yet.\n",
    "\n",
    "Introducting:\n",
    "* iter()\n",
    "* enumerate()\n",
    "\n",
    "`iter()` is what's happening behind the scenes in `for` loops. It works like so:"
   ]
  },
  {
   "cell_type": "code",
   "execution_count": 17,
   "metadata": {
    "collapsed": false
   },
   "outputs": [
    {
     "data": {
      "text/plain": [
       "'milk'"
      ]
     },
     "execution_count": 17,
     "metadata": {},
     "output_type": "execute_result"
    }
   ],
   "source": [
    "i = iter(groceries)\n",
    "next(i)"
   ]
  },
  {
   "cell_type": "code",
   "execution_count": 18,
   "metadata": {
    "collapsed": false
   },
   "outputs": [
    {
     "data": {
      "text/plain": [
       "'eggs'"
      ]
     },
     "execution_count": 18,
     "metadata": {},
     "output_type": "execute_result"
    }
   ],
   "source": [
    "next(i)"
   ]
  },
  {
   "cell_type": "code",
   "execution_count": 19,
   "metadata": {
    "collapsed": false
   },
   "outputs": [
    {
     "data": {
      "text/plain": [
       "(0, 'milk')"
      ]
     },
     "execution_count": 19,
     "metadata": {},
     "output_type": "execute_result"
    }
   ],
   "source": [
    "e = enumerate(groceries)\n",
    "next(e)"
   ]
  },
  {
   "cell_type": "code",
   "execution_count": 20,
   "metadata": {
    "collapsed": false
   },
   "outputs": [
    {
     "data": {
      "text/plain": [
       "(1, 'eggs')"
      ]
     },
     "execution_count": 20,
     "metadata": {},
     "output_type": "execute_result"
    }
   ],
   "source": [
    "next(e)"
   ]
  },
  {
   "cell_type": "markdown",
   "metadata": {},
   "source": [
    "Notice how `enumerate` seems to number each item. It would do this even if we used it on a dictionary."
   ]
  },
  {
   "cell_type": "code",
   "execution_count": 21,
   "metadata": {
    "collapsed": false
   },
   "outputs": [
    {
     "data": {
      "text/plain": [
       "(0, 'name')"
      ]
     },
     "execution_count": 21,
     "metadata": {},
     "output_type": "execute_result"
    }
   ],
   "source": [
    "c = enumerate(contact)\n",
    "next(c)"
   ]
  },
  {
   "cell_type": "markdown",
   "metadata": {},
   "source": [
    "These iteration protocols are employed throughout Python to scan objects.\n",
    "\n",
    "Review:\n",
    "* Incrementing\n",
    "* Conditionals\n",
    "* Loops\n",
    "* Iteration\n",
    "\n",
    "Practice:\n",
    "Write a script that manages an address book. It should\n",
    "* Add a contact.\n",
    "* Update a contact.\n",
    "* Search for a specific contact by any criteria.\n",
    "* List all contacts"
   ]
  }
 ],
 "metadata": {
  "anaconda-cloud": {},
  "kernelspec": {
   "display_name": "Python [default]",
   "language": "python",
   "name": "python3"
  },
  "language_info": {
   "codemirror_mode": {
    "name": "ipython",
    "version": 3
   },
   "file_extension": ".py",
   "mimetype": "text/x-python",
   "name": "python",
   "nbconvert_exporter": "python",
   "pygments_lexer": "ipython3",
   "version": "3.5.2"
  }
 },
 "nbformat": 4,
 "nbformat_minor": 1
}
