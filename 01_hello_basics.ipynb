{
 "cells": [
  {
   "cell_type": "markdown",
   "metadata": {},
   "source": [
    "# Python Basics\n",
    "\n",
    "Concepts to Cover: \n",
    "* Expressions\n",
    "* Statements \n",
    "* Variables\n",
    "* Functions\n",
    "* Arguments\n",
    "* Interpolation\n",
    "\n",
    "These concepts are the basis of every operation you'll perform with Python. You'll literally be using them all the time without even thinking about what they are or what they're called!\n",
    "\n",
    "These concepts together give you what you need to create.\n",
    "\n",
    "Note that iPython prepends each line of the editor with an `In [0]` or `Out [0]`. The former refers to your input and the latter the resulting output. The numbers simply represent the nth input/output.\n",
    "\n",
    "#### Statements and Expressions\n",
    "Expressions are basically values. Functions can encapsulate statements. And within our function is a statement, `print`. Statements contain expressions and are used to give commands, make calls or assign values.\n",
    "\n",
    "Conceptual hierarchy: Expressions > Statements > Modules > Program [1]\n",
    "\n",
    "[1]: https://amzn.com/B00DDZPC9S \"Learning Python\"\n"
   ]
  },
  {
   "cell_type": "code",
   "execution_count": 1,
   "metadata": {
    "collapsed": false,
    "scrolled": true
   },
   "outputs": [
    {
     "name": "stdout",
     "output_type": "stream",
     "text": [
      "Hello, World!\n"
     ]
    }
   ],
   "source": [
    "print('Hello, World!')  # A statement"
   ]
  },
  {
   "cell_type": "code",
   "execution_count": 2,
   "metadata": {
    "collapsed": false
   },
   "outputs": [],
   "source": [
    "def hello_world():\n",
    "    print('Hello, World!')"
   ]
  },
  {
   "cell_type": "code",
   "execution_count": 3,
   "metadata": {
    "collapsed": false
   },
   "outputs": [
    {
     "name": "stdout",
     "output_type": "stream",
     "text": [
      "Hello, World!\n"
     ]
    }
   ],
   "source": [
    "hello_world() # Also a statement!"
   ]
  },
  {
   "cell_type": "code",
   "execution_count": 4,
   "metadata": {
    "collapsed": false
   },
   "outputs": [
    {
     "data": {
      "text/plain": [
       "'James Bond'"
      ]
     },
     "execution_count": 4,
     "metadata": {},
     "output_type": "execute_result"
    }
   ],
   "source": [
    "name = 'James Bond'  # An expression\n",
    "name"
   ]
  },
  {
   "cell_type": "code",
   "execution_count": 5,
   "metadata": {
    "collapsed": false
   },
   "outputs": [
    {
     "data": {
      "text/plain": [
       "'Hello, James Bond'"
      ]
     },
     "execution_count": 5,
     "metadata": {},
     "output_type": "execute_result"
    }
   ],
   "source": [
    "# Interpolation: inserting values into a string.\n",
    "greeting = 'Hello, {0}'.format(name)\n",
    "greeting"
   ]
  },
  {
   "cell_type": "code",
   "execution_count": 6,
   "metadata": {
    "collapsed": false
   },
   "outputs": [
    {
     "data": {
      "text/plain": [
       "'Hello, James Bond'"
      ]
     },
     "execution_count": 6,
     "metadata": {},
     "output_type": "execute_result"
    }
   ],
   "source": [
    "# Concatenation: Combining two or more different strings.\n",
    "greeting = 'Hello, '\n",
    "name_greeting = greeting + name\n",
    "name_greeting"
   ]
  },
  {
   "cell_type": "markdown",
   "metadata": {},
   "source": [
    "Our variable assignment is another example of a statement. A variable, however, is itself an expression since it represents a value.\n",
    "\n",
    "#### Functions\n",
    "Suppose we wanted our `hello_world` function to say hello to whoever we wanted? We would have to design the function to accept an argument. \n",
    "\n",
    "An argument is just an object we pass to a function in order to use that object to do something else."
   ]
  },
  {
   "cell_type": "code",
   "execution_count": 7,
   "metadata": {
    "collapsed": false
   },
   "outputs": [
    {
     "data": {
      "text/plain": [
       "'Hello, James Bond!'"
      ]
     },
     "execution_count": 7,
     "metadata": {},
     "output_type": "execute_result"
    }
   ],
   "source": [
    "def hello(name):\n",
    "    return 'Hello, {0}!'.format(name)\n",
    "\n",
    "hello(name)"
   ]
  },
  {
   "cell_type": "markdown",
   "metadata": {},
   "source": [
    "In the last operation we did something slightly different in our function. Instead of printing a greeting, we _returned_ a greeting. The `return` statement can only be used within functions and it simply returns a value.\n",
    "\n",
    "#### Review:\n",
    "* Expressions\n",
    "* Functions\n",
    "* Variables\n",
    "* Arguments\n",
    "* Interpolation\n",
    "\n",
    "##### Practice:\n",
    "Create a function that accepts an argument (or two ...) and returns an expression."
   ]
  }
 ],
 "metadata": {
  "anaconda-cloud": {},
  "kernelspec": {
   "display_name": "Python 3",
   "language": "python",
   "name": "python3"
  },
  "language_info": {
   "codemirror_mode": {
    "name": "ipython",
    "version": 3
   },
   "file_extension": ".py",
   "mimetype": "text/x-python",
   "name": "python",
   "nbconvert_exporter": "python",
   "pygments_lexer": "ipython3",
   "version": "3.5.1"
  }
 },
 "nbformat": 4,
 "nbformat_minor": 0
}
