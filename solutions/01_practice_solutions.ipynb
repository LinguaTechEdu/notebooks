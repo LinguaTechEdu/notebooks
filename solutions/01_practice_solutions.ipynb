{
 "cells": [
  {
   "cell_type": "markdown",
   "metadata": {},
   "source": [
    "# Solutions\n",
    "!"
   ]
  },
  {
   "cell_type": "code",
   "execution_count": 10,
   "metadata": {},
   "outputs": [
    {
     "name": "stdout",
     "output_type": "stream",
     "text": [
      "Testing greet() ...\n",
      "==> ✔ Pass - input: Nice to meet you, Terry!, expected output: Nice to meet you, Terry!\n",
      "==> ✔ Pass - input: Nice to meet you, 7!, expected output: Nice to meet you, 7!\n",
      "\n",
      "\n",
      "Testing is_saved() ...\n",
      "==> ✔ Pass - input: True, expected output: True\n",
      "==> ✔ Pass - input: False, expected output: False\n",
      "\n",
      "\n",
      "Testing convert_to_celcius()...\n",
      "==> ✔ Pass - input: 0.0, expected output: 0\n",
      "==> ✔ Pass - input: 20.0, expected output: 20\n",
      "\n",
      "\n"
     ]
    }
   ],
   "source": [
    "# A little database we can use to check information\n",
    "database = ['King', 'cookies', 'street', 'rain', 'computer', 7]\n",
    "\n",
    "# Custom Functions\n",
    "def greet(name):\n",
    "    \"\"\"Given a name, return the greeting 'Nice to meet you, <name>'.\"\"\"\n",
    "    return \"Nice to meet you, {0}!\".format(name)\n",
    "    \n",
    "def is_saved(val):\n",
    "    \"\"\"\n",
    "    Check the database to see if val is already stored there.\n",
    "    \"\"\"\n",
    "    return val in database\n",
    "\n",
    "def convert_to_celcius(temp):\n",
    "    \"\"\"\n",
    "    Given a temperature in Fahrenheit, convert it to celcius and return it.\n",
    "    Formula: http://www.celsius-to-fahrenheit.com/\n",
    "    \"\"\"\n",
    "    return ((temp - 32) / 9) * 5\n",
    "\n",
    "# Testing Tools\n",
    "# The functions below help us test the functions we created above.\n",
    "def test(input, output):\n",
    "    \"\"\"\n",
    "    This is a simple function to test that the results of our function\n",
    "    match what we expect. Get used to writing these! As you learn, \n",
    "    you'll find more and better tools to help you test your code.\n",
    "    \n",
    "    Fancy unicode check marks: https://en.wikipedia.org/wiki/Check_mark\n",
    "    \"\"\"\n",
    "    if input == output:\n",
    "        result = '==> \\u2714 Pass'\n",
    "    else:\n",
    "        result = '==> \\u2718 Fail'\n",
    "    print(\"{0} - input: {1}, expected output: {2}\".format(result, input, output))\n",
    "    \n",
    "def run_tests():\n",
    "    \"\"\"Test that our functions work the way we think they do.\"\"\"\n",
    "    print(\"Testing greet() ...\")\n",
    "    test(greet('Terry'), 'Nice to meet you, Terry!')\n",
    "    test(greet(7), 'Nice to meet you, 7!')\n",
    "    print(\"\\n\")\n",
    "    \n",
    "    print(\"Testing is_saved() ...\")\n",
    "    test(is_saved('King'), True)\n",
    "    test(is_saved('Queen'), False)\n",
    "    print(\"\\n\")\n",
    "    \n",
    "    print(\"Testing convert_to_celcius()...\")\n",
    "    test(convert_to_celcius(32), 0)\n",
    "    test(convert_to_celcius(68), 20)\n",
    "    print(\"\\n\")\n",
    "\n",
    "run_tests()"
   ]
  },
  {
   "cell_type": "code",
   "execution_count": 5,
   "metadata": {
    "scrolled": true
   },
   "outputs": [
    {
     "name": "stdout",
     "output_type": "stream",
     "text": [
      "Testing first_last() ...\n",
      "✔ Pass - Actual Output: b g, Expected Output: b g\n",
      "✔ Pass - Actual Output: c r, Expected Output: c r\n",
      "\n",
      "\n",
      "Testing letter_swap() ...\n",
      "✔ Pass - Actual Output: ceer bheese, Expected Output: ceer bheese\n",
      "✔ Pass - Actual Output: coctor douch, Expected Output: coctor douch\n",
      "\n",
      "\n"
     ]
    }
   ],
   "source": []
  }
 ],
 "metadata": {
  "anaconda-cloud": {},
  "kernelspec": {
   "display_name": "Python 3",
   "language": "python",
   "name": "python3"
  },
  "language_info": {
   "codemirror_mode": {
    "name": "ipython",
    "version": 3
   },
   "file_extension": ".py",
   "mimetype": "text/x-python",
   "name": "python",
   "nbconvert_exporter": "python",
   "pygments_lexer": "ipython3",
   "version": "3.6.1"
  }
 },
 "nbformat": 4,
 "nbformat_minor": 1
}
