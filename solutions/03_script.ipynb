{
 "cells": [
  {
   "cell_type": "markdown",
   "metadata": {},
   "source": [
    "## Your Own Script\n",
    "\n",
    "Below are some simple solutions you can use. But remember: there are other ways of accomplishing these and you should practice and learn those alternatives too!"
   ]
  },
  {
   "cell_type": "code",
   "execution_count": null,
   "metadata": {
    "collapsed": true
   },
   "outputs": [],
   "source": [
    "#!/usr/bin/env python3\n",
    "# -*- coding: utf-8 -*-\n",
    "\"\"\"\n",
    "Created on Wed Dec 14 22:00:45 2016\n",
    "\n",
    "@author: proto\n",
    "\"\"\"\n",
    "\n",
    "def add_track(track_info):\n",
    "    \"\"\"Add a single track with name, album, artist, duration.\"\"\"\n",
    "    return {\n",
    "        'track': track_info[0],\n",
    "        'artist': track_info[1],\n",
    "        'album': track_info[2],\n",
    "        'duration': track_info[3]\n",
    "    }\n",
    "\n",
    "def parse_data(csv):\n",
    "    \"\"\"Parse CSV file into a list of track objects.\"\"\"\n",
    "    playlist = []\n",
    "    with open(csv) as doc:\n",
    "        for line in doc:\n",
    "            track = line.split(',')\n",
    "            playlist.append(add_track(track))\n",
    "    if playlist[0]['artist'] == ' Artist Name':\n",
    "        del playlist[0]  # remove first object which contains row names!\n",
    "    return playlist\n",
    "\n",
    "def count_tracks(playlist):\n",
    "    \"\"\"Return the total number of tracks.\"\"\"\n",
    "    return len(playlist)\n",
    "\n",
    "def list_artists(playlist):\n",
    "    \"\"\"Return a list of all unique artists.\"\"\"\n",
    "    return set([p['artist'] for p in playlist])\n",
    "    \n",
    "def list_tracks(playlist):\n",
    "    return [t['track'] for t in playlist]\n",
    "\n",
    "def find_longest_track(playlist):\n",
    "    \"\"\"Return the track with the highest duration.\"\"\"\n",
    "    return max([int(t['duration'].strip()) for t in playlist])\n",
    "        \n",
    "    \n",
    "# Tests\n",
    "\n",
    "def test(actual, expected):\n",
    "    \"\"\"Always test your work!\"\"\"\n",
    "    if actual == expected:\n",
    "        result = '==> \\u2714 Pass'\n",
    "    else:\n",
    "        result = '==> \\u2718 Fail'\n",
    "    print(\"{0} - Actual: {1}, Expected: {2}\".format(result, actual, expected))\n",
    "\n",
    "def run_tests():\n",
    "    \"\"\"Test runner.\"\"\"\n",
    "    expected_parse = [{'track': 'test song', 'artist': 'test artist', 'album': 'test album', 'duration': '1000'}]\n",
    "    test_playlist = parse_data('test_fixture.csv')\n",
    "    \n",
    "    print(\"\\n\\n\")\n",
    "    test(parse_data('test_fixture.csv'), expected_parse)\n",
    "    test(count_tracks(test_playlist), 1)\n",
    "    test(list_artists(test_playlist), ['test artist'])\n",
    "    test(find_longest_track(test_playlist), 1000)\n",
    "    \n",
    "run_tests()"
   ]
  }
 ],
 "metadata": {
  "anaconda-cloud": {},
  "kernelspec": {
   "display_name": "Python [conda root]",
   "language": "python",
   "name": "conda-root-py"
  },
  "language_info": {
   "codemirror_mode": {
    "name": "ipython",
    "version": 3
   },
   "file_extension": ".py",
   "mimetype": "text/x-python",
   "name": "python",
   "nbconvert_exporter": "python",
   "pygments_lexer": "ipython3",
   "version": "3.5.2"
  }
 },
 "nbformat": 4,
 "nbformat_minor": 1
}
