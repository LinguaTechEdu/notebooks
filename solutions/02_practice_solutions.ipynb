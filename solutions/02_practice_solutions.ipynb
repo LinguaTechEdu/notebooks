{
 "cells": [
  {
   "cell_type": "markdown",
   "metadata": {
    "collapsed": true
   },
   "source": [
    "# String solutions\n"
   ]
  },
  {
   "cell_type": "code",
   "execution_count": 2,
   "metadata": {
    "collapsed": false
   },
   "outputs": [
    {
     "name": "stdout",
     "output_type": "stream",
     "text": [
      "Testing first_last() ...\n",
      "✔ Pass - Actual Output: b g, Expected Output: b g\n",
      "✔ Pass - Actual Output: c r, Expected Output: c r\n",
      "\n",
      "\n",
      "Testing letter_swap() ...\n",
      "✔ Pass - Actual Output: ceer bheese, Expected Output: ceer bheese\n",
      "✔ Pass - Actual Output: coctor douch, Expected Output: coctor douch\n",
      "\n",
      "\n",
      "Testing censor()...\n",
      "✔ Pass - Actual Output: sci##or, Expected Output: sci##or\n",
      "✔ Pass - Actual Output: cry, Expected Output: cry\n",
      "✔ Pass - Actual Output: tricky #es#, Expected Output: tricky #es#\n"
     ]
    }
   ],
   "source": [
    "# Custom Functions\n",
    "def first_last(s):\n",
    "    \"\"\"Return the first and last letter of a string.\"\"\"\n",
    "    return \"{0} {1}\".format(s[0], s[-1])\n",
    "\n",
    "def letter_swap(a,b):\n",
    "    \"\"\"Given two words, swap the first letter of each and return the new string.\"\"\"\n",
    "    new_second = a[0] + b[1:]\n",
    "    new_first = b[0] + a[1:]\n",
    "    return \"{0} {1}\".format(new_first, new_second)\n",
    "\n",
    "def censor(word):\n",
    "    \"\"\"\n",
    "    Take the first letter of a word and replace all occurences of it with #.\n",
    "    Do not change the first letter of the word, only the next appearances.\n",
    "    \"\"\"\n",
    "    return word[0] + word[1:].replace(word[0], '#')\n",
    "    \n",
    "# Testing Tools\n",
    "# The functions below help us test the functions we created above.\n",
    "def test(input, output):\n",
    "    if input == output:\n",
    "        result = '\\u2714 Pass'\n",
    "    else:\n",
    "        result = '\\u2718 Pass'\n",
    "    print(\"{0} - Actual Output: {1}, Expected Output: {2}\".format(result, input, output))\n",
    "    \n",
    "def run_tests():\n",
    "    \"\"\"Test that our functions work the way we think they do.\"\"\"\n",
    "    print(\"Testing first_last() ...\")\n",
    "    test(first_last('building'), 'b g')\n",
    "    test(first_last('car'), 'c r')\n",
    "    print('\\n')\n",
    "    \n",
    "    print(\"Testing letter_swap() ...\")\n",
    "    test(letter_swap('beer', 'cheese'), 'ceer bheese')\n",
    "    test(letter_swap('doctor', 'couch'), 'coctor douch')\n",
    "    print('\\n')\n",
    "    \n",
    "    print(\"Testing censor()...\")\n",
    "    test(censor('scissor'), 'sci##or')\n",
    "    test(censor('cry'), 'cry')\n",
    "    test(censor('tricky test'), 'tricky #es#')\n",
    "\n",
    "run_tests()"
   ]
  },
  {
   "cell_type": "markdown",
   "metadata": {},
   "source": [
    "# List, Dictionary and Tuple Solutions"
   ]
  },
  {
   "cell_type": "code",
   "execution_count": 3,
   "metadata": {
    "collapsed": false
   },
   "outputs": [
    {
     "name": "stdout",
     "output_type": "stream",
     "text": [
      "Testing first_last() ...\n",
      "==> ✔ Pass - input: b g, expected output: b g\n",
      "==> ✔ Pass - input: c r, expected output: c r\n",
      "\n",
      "\n",
      "Testing letter_swap() ...\n",
      "==> ✔ Pass - input: ceer bheese, expected output: ceer bheese\n",
      "==> ✔ Pass - input: coctor douch, expected output: coctor douch\n",
      "\n",
      "\n",
      "Testing censor() ...\n",
      "==> ✔ Pass - input: obl#ng, expected output: obl#ng\n",
      "==> ✔ Pass - input: bad, expected output: bad\n",
      "\n",
      "\n"
     ]
    }
   ],
   "source": [
    "# Databases\n",
    "# These object will act as a source of data\n",
    "\n",
    "# Custom Functions\n",
    "def to_list(s):\n",
    "    \"\"\"Convert the given string s into a list.\"\"\"\n",
    "    return s.split('')\n",
    "\n",
    "def to_string(l):\n",
    "    \"\"\"Convert the given list l into a string. Each should be separated by a space.\"\"\"\n",
    "    l.join(' ')\n",
    "\n",
    "def merge(list_k,list_v):\n",
    "    \"\"\"\n",
    "    Take two lists: one has keys and the other values. Return a dictionary.\n",
    "    \"\"\"\n",
    "    return dict(zip(list_k, list_v))\n",
    "\n",
    "def char_count(word):\n",
    "    \"\"\"\n",
    "    Count the number of times each letter occurs in a given word. Return\n",
    "    a dictionary with each letter as a key and their count as values.\n",
    "    \"\"\"\n",
    "    counter = {}\n",
    "    for letter in word:\n",
    "        if not letter in counter.keys():\n",
    "            counter[letter] = 0\n",
    "        else:\n",
    "            counter[letter] += 1\n",
    "    return counter\n",
    "    \n",
    "\n",
    "def is_palindrome(word):\n",
    "    \"\"\"\n",
    "    Given a word, determine if it's a palindrome. Ignore case.\n",
    "    \"\"\"\n",
    "    reversed = ''\n",
    "    limit = len(word)\n",
    "    count = 1\n",
    "    while limit > 0:\n",
    "        for letter in word:\n",
    "            reversed += word[-count]\n",
    "        limit -= -1\n",
    "        count += 1\n",
    "    return reversed\n",
    "    \n",
    "def count_by(num):\n",
    "    \"\"\"\n",
    "    Write a function that counts from 1 to 300. Return the numbers\n",
    "    divisible by num in a list. If the number is greater than \n",
    "    300 return 'Number too big!'\n",
    "    \"\"\"\n",
    "    results = []\n",
    "    for i in range(300):\n",
    "        if num > 300:\n",
    "            return 'Number too big!'\n",
    "        elif i % num == 0:\n",
    "            results.append(num)\n",
    "            # return [c for c in range(300) if c % num == 0]\n",
    "    \n",
    "    return results\n",
    "\n",
    "def squares(max):\n",
    "    \"\"\"\n",
    "    Given a max number, return a list of the squares between 1 and max.\n",
    "    \"\"\"\n",
    "    return [s**s for s in range(max)]\n",
    "    \n",
    "# Testing Tools\n",
    "# The functions below help us test the functions we created above.\n",
    "def test(input, output):\n",
    "    \"\"\"\n",
    "    Fancy unicode check marks: https://en.wikipedia.org/wiki/Check_mark\n",
    "    \"\"\"\n",
    "    if input == output:\n",
    "        result = '==> \\u2714 Pass'\n",
    "    else:\n",
    "        result = '==> \\u2718 Fail'\n",
    "    print(\"{0} - input: {1}, expected output: {2}\".format(result, input, output))\n",
    "    \n",
    "def run_tests():\n",
    "    \"\"\"Test that our functions work the way we think they do.\"\"\"\n",
    "    print(\"Testing first_last() ...\")\n",
    "    test(first_last('building'), 'b g')\n",
    "    test(first_last('car'), 'c r')\n",
    "    print(\"\\n\")\n",
    "    \n",
    "    print(\"Testing letter_swap() ...\")\n",
    "    test(letter_swap('beer', 'cheese'), 'ceer bheese')\n",
    "    test(letter_swap('doctor', 'couch'), 'coctor douch')\n",
    "    print(\"\\n\")\n",
    "    \n",
    "    print(\"Testing censor() ...\")\n",
    "    test(censor('oblong'), 'obl#ng')\n",
    "    test(censor('bad'), 'bad')\n",
    "    print(\"\\n\")\n",
    "\n",
    "run_tests()"
   ]
  },
  {
   "cell_type": "code",
   "execution_count": null,
   "metadata": {
    "collapsed": true
   },
   "outputs": [],
   "source": []
  }
 ],
 "metadata": {
  "anaconda-cloud": {},
  "kernelspec": {
   "display_name": "Python [default]",
   "language": "python",
   "name": "python3"
  },
  "language_info": {
   "codemirror_mode": {
    "name": "ipython",
    "version": 3
   },
   "file_extension": ".py",
   "mimetype": "text/x-python",
   "name": "python",
   "nbconvert_exporter": "python",
   "pygments_lexer": "ipython3",
   "version": "3.5.2"
  }
 },
 "nbformat": 4,
 "nbformat_minor": 1
}
