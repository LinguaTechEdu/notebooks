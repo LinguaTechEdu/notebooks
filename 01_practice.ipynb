{
 "cells": [
  {
   "cell_type": "markdown",
   "metadata": {},
   "source": [
    "## Writing Functions\n",
    "\n",
    "Let's put our skills to work writing functions that can handle integers, conditionals and comparisons. Required skills:\n",
    "\n",
    "* Functions and arguments\n",
    "* Conditionals\n",
    "* Comparisons\n",
    "* Integer operations\n",
    "\n",
    "Be sure to review the lesson before writing your functions. Solutions are in the solutions/ folder."
   ]
  },
  {
   "cell_type": "code",
   "execution_count": 5,
   "metadata": {
    "collapsed": false
   },
   "outputs": [
    {
     "name": "stdout",
     "output_type": "stream",
     "text": [
      "Testing first_last() ...\n",
      "Pass - Input: b g, Expected Output: b g\n",
      "Pass - Input: c r, Expected Output: c r\n",
      "Testing letter_swap() ...\n",
      "Pass - Input: ceer bheese, Expected Output: ceer bheese\n",
      "Pass - Input: coctor douch, Expected Output: coctor douch\n"
     ]
    }
   ],
   "source": [
    "# A little database we can use to check information\n",
    "database = ['King', 'cookies', 'street', 'rain', 'computer', 7]\n",
    "\n",
    "# Custom Functions\n",
    "def greet(name):\n",
    "    \"\"\"Given a name, return the greeting 'Nice to meet you, <name>'.\"\"\"\n",
    "    # Your code here\n",
    "    \n",
    "def counter():\n",
    "    \"\"\"\n",
    "    Write a function that counts from 1 to 100. Return the numbers \n",
    "    divisble by 10. (10, 20, 30, 40)\n",
    "    \"\"\"\n",
    "    # Your code here\n",
    "\n",
    "def is_saved(val):\n",
    "    \"\"\"\n",
    "    Check the database to see if val is already stored there.\n",
    "    \"\"\"\n",
    "    # Your code here\n",
    "\n",
    "def convert_to_celcius(temp):\n",
    "    \"\"\"\n",
    "    Given a temperature in Fahrenheit, convert it to celcius and return it.\n",
    "    Formula: http://www.celsius-to-fahrenheit.com/\n",
    "    \"\"\"\n",
    "    # Your code here\n",
    "    \n",
    "\n",
    "# Testing Tools\n",
    "# The functions below help us test the functions we created above.\n",
    "def test(input, output):\n",
    "    \"\"\"\n",
    "    This is a simple function to test that the results of our function\n",
    "    match what we expect. Get used to writing these! As you learn, \n",
    "    you'll find more and better tools to help you test your code.\n",
    "    \n",
    "    Fancy unicode check marks: https://en.wikipedia.org/wiki/Check_mark\n",
    "    \"\"\"\n",
    "    if input == output:\n",
    "        result = '==> \\u2714 Pass'\n",
    "    else:\n",
    "        result = '==> \\u2718 Fail'\n",
    "    print(\"{0} - input: {1}, expected output: {2}\".format(result, input, output))\n",
    "    \n",
    "def run_tests():\n",
    "    \"\"\"Test that our functions work the way we think they do.\"\"\"\n",
    "    print(\"Testing greet() ...\")\n",
    "    test(greet('Terry'), 'Nice to meet you, Terry!')\n",
    "    test(greet(007), 'Nice to meet you, 007!')\n",
    "    print(\"\\n\")\n",
    "    \n",
    "    print(\"Testing counter() ...\")\n",
    "    test(counter(), (10,20,30,40,50,60,70,80,90,100))\n",
    "    print(\"\\n\")\n",
    "    \n",
    "    print(\"Testing is_saved() ...\")\n",
    "    test(is_saved('King'), True)\n",
    "    test(is_saved('Queen'), False)\n",
    "    print(\"\\n\")\n",
    "    \n",
    "    print(\"Testing convert_to_celcius()...\")\n",
    "    test(convert_to_celcius(73), 23)\n",
    "    test(convert_to_celcius(57), 14)\n",
    "    print(\"\\n\")\n",
    "\n",
    "run_tests()"
   ]
  },
  {
   "cell_type": "markdown",
   "metadata": {},
   "source": [
    "## Sidebar: Testing\n",
    "\n",
    "As you can see I've written some tests to make sure my functions work like I want them to. This is a great habit to get into. AS you learn more Python you'll find entire tools designed for testing your code and they'll have features you can't even imagine!\n",
    "\n",
    "But at base, tests are created the same way you create any other function in Python. So the moment you learn to write functions, you're learning the tools to help you write tests.\n",
    "\n",
    "Try to write simple tests like this every time you create a function. It will help you think about possible problems with your code and explore the boundaries of what it can do."
   ]
  },
  {
   "cell_type": "code",
   "execution_count": null,
   "metadata": {
    "collapsed": true
   },
   "outputs": [],
   "source": []
  }
 ],
 "metadata": {
  "kernelspec": {
   "display_name": "Python [default]",
   "language": "python",
   "name": "python3"
  },
  "language_info": {
   "codemirror_mode": {
    "name": "ipython",
    "version": 3
   },
   "file_extension": ".py",
   "mimetype": "text/x-python",
   "name": "python",
   "nbconvert_exporter": "python",
   "pygments_lexer": "ipython3",
   "version": "3.5.2"
  }
 },
 "nbformat": 4,
 "nbformat_minor": 1
}
